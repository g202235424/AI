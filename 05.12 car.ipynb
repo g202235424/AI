{
 "cells": [
  {
   "cell_type": "code",
   "execution_count": 15,
   "id": "35ace19f",
   "metadata": {},
   "outputs": [],
   "source": [
    "import matplotlib.pyplot as plt\n",
    "import numpy as np\n",
    "import pandas as pd\n",
    "import seaborn as sns"
   ]
  },
  {
   "cell_type": "code",
   "execution_count": 18,
   "id": "e2650161",
   "metadata": {},
   "outputs": [],
   "source": [
    "data= pd.read_csv('C:/Users/Cold min/OneDrive/바탕 화면/인공지능/car.data')\n",
    "df = pd.DataFrame(data=data)"
   ]
  },
  {
   "cell_type": "code",
   "execution_count": 56,
   "id": "6048b498",
   "metadata": {
    "scrolled": true
   },
   "outputs": [
    {
     "data": {
      "text/html": [
       "<div>\n",
       "<style scoped>\n",
       "    .dataframe tbody tr th:only-of-type {\n",
       "        vertical-align: middle;\n",
       "    }\n",
       "\n",
       "    .dataframe tbody tr th {\n",
       "        vertical-align: top;\n",
       "    }\n",
       "\n",
       "    .dataframe thead th {\n",
       "        text-align: right;\n",
       "    }\n",
       "</style>\n",
       "<table border=\"1\" class=\"dataframe\">\n",
       "  <thead>\n",
       "    <tr style=\"text-align: right;\">\n",
       "      <th></th>\n",
       "      <th>vhigh</th>\n",
       "      <th>vhigh.1</th>\n",
       "      <th>2</th>\n",
       "      <th>2.1</th>\n",
       "      <th>small</th>\n",
       "      <th>low</th>\n",
       "      <th>unacc</th>\n",
       "    </tr>\n",
       "  </thead>\n",
       "  <tbody>\n",
       "    <tr>\n",
       "      <th>0</th>\n",
       "      <td>3</td>\n",
       "      <td>3</td>\n",
       "      <td>0</td>\n",
       "      <td>0</td>\n",
       "      <td>2</td>\n",
       "      <td>2</td>\n",
       "      <td>2</td>\n",
       "    </tr>\n",
       "    <tr>\n",
       "      <th>1</th>\n",
       "      <td>3</td>\n",
       "      <td>3</td>\n",
       "      <td>0</td>\n",
       "      <td>0</td>\n",
       "      <td>2</td>\n",
       "      <td>0</td>\n",
       "      <td>2</td>\n",
       "    </tr>\n",
       "    <tr>\n",
       "      <th>2</th>\n",
       "      <td>3</td>\n",
       "      <td>3</td>\n",
       "      <td>0</td>\n",
       "      <td>0</td>\n",
       "      <td>1</td>\n",
       "      <td>1</td>\n",
       "      <td>2</td>\n",
       "    </tr>\n",
       "    <tr>\n",
       "      <th>3</th>\n",
       "      <td>3</td>\n",
       "      <td>3</td>\n",
       "      <td>0</td>\n",
       "      <td>0</td>\n",
       "      <td>1</td>\n",
       "      <td>2</td>\n",
       "      <td>2</td>\n",
       "    </tr>\n",
       "    <tr>\n",
       "      <th>4</th>\n",
       "      <td>3</td>\n",
       "      <td>3</td>\n",
       "      <td>0</td>\n",
       "      <td>0</td>\n",
       "      <td>1</td>\n",
       "      <td>0</td>\n",
       "      <td>2</td>\n",
       "    </tr>\n",
       "    <tr>\n",
       "      <th>...</th>\n",
       "      <td>...</td>\n",
       "      <td>...</td>\n",
       "      <td>...</td>\n",
       "      <td>...</td>\n",
       "      <td>...</td>\n",
       "      <td>...</td>\n",
       "      <td>...</td>\n",
       "    </tr>\n",
       "    <tr>\n",
       "      <th>1722</th>\n",
       "      <td>1</td>\n",
       "      <td>1</td>\n",
       "      <td>3</td>\n",
       "      <td>2</td>\n",
       "      <td>1</td>\n",
       "      <td>2</td>\n",
       "      <td>1</td>\n",
       "    </tr>\n",
       "    <tr>\n",
       "      <th>1723</th>\n",
       "      <td>1</td>\n",
       "      <td>1</td>\n",
       "      <td>3</td>\n",
       "      <td>2</td>\n",
       "      <td>1</td>\n",
       "      <td>0</td>\n",
       "      <td>3</td>\n",
       "    </tr>\n",
       "    <tr>\n",
       "      <th>1724</th>\n",
       "      <td>1</td>\n",
       "      <td>1</td>\n",
       "      <td>3</td>\n",
       "      <td>2</td>\n",
       "      <td>0</td>\n",
       "      <td>1</td>\n",
       "      <td>2</td>\n",
       "    </tr>\n",
       "    <tr>\n",
       "      <th>1725</th>\n",
       "      <td>1</td>\n",
       "      <td>1</td>\n",
       "      <td>3</td>\n",
       "      <td>2</td>\n",
       "      <td>0</td>\n",
       "      <td>2</td>\n",
       "      <td>1</td>\n",
       "    </tr>\n",
       "    <tr>\n",
       "      <th>1726</th>\n",
       "      <td>1</td>\n",
       "      <td>1</td>\n",
       "      <td>3</td>\n",
       "      <td>2</td>\n",
       "      <td>0</td>\n",
       "      <td>0</td>\n",
       "      <td>3</td>\n",
       "    </tr>\n",
       "  </tbody>\n",
       "</table>\n",
       "<p>1727 rows × 7 columns</p>\n",
       "</div>"
      ],
      "text/plain": [
       "      vhigh  vhigh.1  2  2.1  small  low  unacc\n",
       "0         3        3  0    0      2    2      2\n",
       "1         3        3  0    0      2    0      2\n",
       "2         3        3  0    0      1    1      2\n",
       "3         3        3  0    0      1    2      2\n",
       "4         3        3  0    0      1    0      2\n",
       "...     ...      ... ..  ...    ...  ...    ...\n",
       "1722      1        1  3    2      1    2      1\n",
       "1723      1        1  3    2      1    0      3\n",
       "1724      1        1  3    2      0    1      2\n",
       "1725      1        1  3    2      0    2      1\n",
       "1726      1        1  3    2      0    0      3\n",
       "\n",
       "[1727 rows x 7 columns]"
      ]
     },
     "execution_count": 56,
     "metadata": {},
     "output_type": "execute_result"
    }
   ],
   "source": [
    "df"
   ]
  },
  {
   "cell_type": "code",
   "execution_count": 57,
   "id": "6b9fe208",
   "metadata": {},
   "outputs": [
    {
     "data": {
      "text/plain": [
       "vhigh      0\n",
       "vhigh.1    0\n",
       "2          0\n",
       "2.1        0\n",
       "small      0\n",
       "low        0\n",
       "unacc      0\n",
       "dtype: int64"
      ]
     },
     "execution_count": 57,
     "metadata": {},
     "output_type": "execute_result"
    }
   ],
   "source": [
    "df.isnull().sum()"
   ]
  },
  {
   "cell_type": "code",
   "execution_count": 58,
   "id": "b718ce19",
   "metadata": {},
   "outputs": [],
   "source": [
    "from sklearn.preprocessing import LabelEncoder\n",
    "le=LabelEncoder()\n",
    "for i in data.columns:\n",
    "    df[i]=le.fit_transform(data[i])"
   ]
  },
  {
   "cell_type": "code",
   "execution_count": 59,
   "id": "84afab32",
   "metadata": {},
   "outputs": [
    {
     "data": {
      "text/plain": [
       "<bound method NDFrame.head of       vhigh  vhigh.1  2  2.1  small  low  unacc\n",
       "0         3        3  0    0      2    2      2\n",
       "1         3        3  0    0      2    0      2\n",
       "2         3        3  0    0      1    1      2\n",
       "3         3        3  0    0      1    2      2\n",
       "4         3        3  0    0      1    0      2\n",
       "...     ...      ... ..  ...    ...  ...    ...\n",
       "1722      1        1  3    2      1    2      1\n",
       "1723      1        1  3    2      1    0      3\n",
       "1724      1        1  3    2      0    1      2\n",
       "1725      1        1  3    2      0    2      1\n",
       "1726      1        1  3    2      0    0      3\n",
       "\n",
       "[1727 rows x 7 columns]>"
      ]
     },
     "execution_count": 59,
     "metadata": {},
     "output_type": "execute_result"
    }
   ],
   "source": [
    "df.head"
   ]
  },
  {
   "cell_type": "code",
   "execution_count": 60,
   "id": "1b2e504c",
   "metadata": {
    "scrolled": true
   },
   "outputs": [
    {
     "data": {
      "image/png": "[encoded data removed]",
      "text/plain": [
       "<Figure size 1000x1000 with 1 Axes>"
      ]
     },
     "metadata": {},
     "output_type": "display_data"
    }
   ],
   "source": [
    "#상관 관계 행렬\n",
    "data_corr=df.corr()\n",
    "\n",
    "#히트맵\n",
    "plt.figure(figsize=(10,10))\n",
    "sns.set(font_scale=0.8)\n",
    "sns.heatmap(data_corr, annot=True, cbar=False)\n",
    "plt.show()"
   ]
  },
  {
   "cell_type": "code",
   "execution_count": 61,
   "id": "9545b390",
   "metadata": {},
   "outputs": [],
   "source": [
    "# 데이터 분할\n",
    "from sklearn.preprocessing import LabelEncoder\n",
    "encoder =  LabelEncoder()\n",
    "\n",
    "X = df.drop('unacc', axis=1)\n",
    "y = df['unacc']\n",
    "\n",
    "y1 = encoder.fit_transform(y)\n",
    "\n",
    "Y = pd.get_dummies(y1).values\n",
    "\n",
    "\n",
    "X_train, X_test, y_train, y_test = train_test_split(X, Y, test_size=0.2, random_state=42)"
   ]
  },
  {
   "cell_type": "code",
   "execution_count": 62,
   "id": "625e6f13",
   "metadata": {},
   "outputs": [
    {
     "data": {
      "text/plain": [
       "(1381, 6)"
      ]
     },
     "execution_count": 62,
     "metadata": {},
     "output_type": "execute_result"
    }
   ],
   "source": [
    "X_train.shape"
   ]
  },
  {
   "cell_type": "code",
   "execution_count": 63,
   "id": "9292ec63",
   "metadata": {},
   "outputs": [
    {
     "data": {
      "text/plain": [
       "(1381, 4)"
      ]
     },
     "execution_count": 63,
     "metadata": {},
     "output_type": "execute_result"
    }
   ],
   "source": [
    "y_train.shape"
   ]
  },
  {
   "cell_type": "code",
   "execution_count": 64,
   "id": "503bea7c",
   "metadata": {
    "scrolled": true
   },
   "outputs": [
    {
     "name": "stdout",
     "output_type": "stream",
     "text": [
      "Model: \"sequential_7\"\n",
      "_________________________________________________________________\n",
      " Layer (type)                Output Shape              Param #   \n",
      "=================================================================\n",
      " dense_19 (Dense)            (None, 10)                70        \n",
      "                                                                 \n",
      " dense_20 (Dense)            (None, 8)                 88        \n",
      "                                                                 \n",
      " dense_21 (Dense)            (None, 6)                 54        \n",
      "                                                                 \n",
      " dense_22 (Dense)            (None, 4)                 28        \n",
      "                                                                 \n",
      "=================================================================\n",
      "Total params: 240\n",
      "Trainable params: 240\n",
      "Non-trainable params: 0\n",
      "_________________________________________________________________\n"
     ]
    },
    {
     "name": "stderr",
     "output_type": "stream",
     "text": [
      "C:\\Users\\Cold min\\anaconda3\\lib\\site-packages\\keras\\optimizers\\legacy\\adam.py:117: UserWarning: The `lr` argument is deprecated, use `learning_rate` instead.\n",
      "  super().__init__(name, **kwargs)\n"
     ]
    }
   ],
   "source": [
    "#Defining the model \n",
    "\n",
    "from keras.models import Sequential\n",
    "from keras.layers import Dense\n",
    "from keras.optimizers import SGD,Adam\n",
    "\n",
    "\n",
    "model = Sequential()\n",
    "\n",
    "model.add(Dense(10,input_shape=(6,),activation='tanh'))\n",
    "model.add(Dense(8,activation='sigmoid'))\n",
    "model.add(Dense(6,activation='sigmoid'))\n",
    "model.add(Dense(4,activation='softmax'))\n",
    "\n",
    "model.compile(Adam(lr=0.04),'binary_crossentropy',metrics=['accuracy'])\n",
    "model.summary()"
   ]
  },
  {
   "cell_type": "code",
   "execution_count": 66,
   "id": "0715bd79",
   "metadata": {
    "scrolled": true
   },
   "outputs": [
    {
     "name": "stdout",
     "output_type": "stream",
     "text": [
      "Epoch 1/100\n",
      "44/44 [==============================] - 1s 8ms/step - loss: 0.4064 - accuracy: 0.6365 - val_loss: 0.3637 - val_accuracy: 0.6850\n",
      "Epoch 2/100\n",
      "44/44 [==============================] - 0s 2ms/step - loss: 0.3187 - accuracy: 0.7038 - val_loss: 0.3167 - val_accuracy: 0.6850\n",
      "Epoch 3/100\n",
      "44/44 [==============================] - 0s 2ms/step - loss: 0.3042 - accuracy: 0.7038 - val_loss: 0.3136 - val_accuracy: 0.6850\n",
      "Epoch 4/100\n",
      "44/44 [==============================] - 0s 3ms/step - loss: 0.2959 - accuracy: 0.7038 - val_loss: 0.3049 - val_accuracy: 0.6850\n",
      "Epoch 5/100\n",
      "44/44 [==============================] - 0s 3ms/step - loss: 0.2922 - accuracy: 0.7038 - val_loss: 0.2939 - val_accuracy: 0.6850\n",
      "Epoch 6/100\n",
      "44/44 [==============================] - 0s 3ms/step - loss: 0.2667 - accuracy: 0.7560 - val_loss: 0.2742 - val_accuracy: 0.7514\n",
      "Epoch 7/100\n",
      "44/44 [==============================] - 0s 2ms/step - loss: 0.2622 - accuracy: 0.7734 - val_loss: 0.2687 - val_accuracy: 0.7514\n",
      "Epoch 8/100\n",
      "44/44 [==============================] - 0s 3ms/step - loss: 0.2525 - accuracy: 0.7705 - val_loss: 0.2628 - val_accuracy: 0.7514\n",
      "Epoch 9/100\n",
      "44/44 [==============================] - 0s 3ms/step - loss: 0.2471 - accuracy: 0.7538 - val_loss: 0.2514 - val_accuracy: 0.7514\n",
      "Epoch 10/100\n",
      "44/44 [==============================] - 0s 3ms/step - loss: 0.2421 - accuracy: 0.7697 - val_loss: 0.2490 - val_accuracy: 0.7543\n",
      "Epoch 11/100\n",
      "44/44 [==============================] - 0s 3ms/step - loss: 0.2402 - accuracy: 0.7632 - val_loss: 0.2430 - val_accuracy: 0.7514\n",
      "Epoch 12/100\n",
      "44/44 [==============================] - 0s 3ms/step - loss: 0.2329 - accuracy: 0.7639 - val_loss: 0.2319 - val_accuracy: 0.7572\n",
      "Epoch 13/100\n",
      "44/44 [==============================] - 0s 3ms/step - loss: 0.2160 - accuracy: 0.7965 - val_loss: 0.2057 - val_accuracy: 0.8035\n",
      "Epoch 14/100\n",
      "44/44 [==============================] - 0s 3ms/step - loss: 0.2095 - accuracy: 0.8190 - val_loss: 0.1980 - val_accuracy: 0.8179\n",
      "Epoch 15/100\n",
      "44/44 [==============================] - 0s 2ms/step - loss: 0.2070 - accuracy: 0.7857 - val_loss: 0.2000 - val_accuracy: 0.7948\n",
      "Epoch 16/100\n",
      "44/44 [==============================] - 0s 3ms/step - loss: 0.1950 - accuracy: 0.8067 - val_loss: 0.1863 - val_accuracy: 0.8092\n",
      "Epoch 17/100\n",
      "44/44 [==============================] - 0s 3ms/step - loss: 0.1854 - accuracy: 0.8132 - val_loss: 0.1824 - val_accuracy: 0.8266\n",
      "Epoch 18/100\n",
      "44/44 [==============================] - 0s 2ms/step - loss: 0.1992 - accuracy: 0.7929 - val_loss: 0.2092 - val_accuracy: 0.7919\n",
      "Epoch 19/100\n",
      "44/44 [==============================] - 0s 3ms/step - loss: 0.1866 - accuracy: 0.8139 - val_loss: 0.2006 - val_accuracy: 0.8035\n",
      "Epoch 20/100\n",
      "44/44 [==============================] - 0s 2ms/step - loss: 0.1888 - accuracy: 0.8001 - val_loss: 0.2147 - val_accuracy: 0.8092\n",
      "Epoch 21/100\n",
      "44/44 [==============================] - 0s 3ms/step - loss: 0.1793 - accuracy: 0.8204 - val_loss: 0.1863 - val_accuracy: 0.8150\n",
      "Epoch 22/100\n",
      "44/44 [==============================] - 0s 2ms/step - loss: 0.1975 - accuracy: 0.8030 - val_loss: 0.2169 - val_accuracy: 0.7688\n",
      "Epoch 23/100\n",
      "44/44 [==============================] - 0s 2ms/step - loss: 0.1875 - accuracy: 0.7842 - val_loss: 0.1837 - val_accuracy: 0.8208\n",
      "Epoch 24/100\n",
      "44/44 [==============================] - 0s 2ms/step - loss: 0.1855 - accuracy: 0.8103 - val_loss: 0.1845 - val_accuracy: 0.8237\n",
      "Epoch 25/100\n",
      "44/44 [==============================] - 0s 2ms/step - loss: 0.1692 - accuracy: 0.8327 - val_loss: 0.2050 - val_accuracy: 0.8035\n",
      "Epoch 26/100\n",
      "44/44 [==============================] - 0s 3ms/step - loss: 0.1718 - accuracy: 0.8356 - val_loss: 0.1833 - val_accuracy: 0.8295\n",
      "Epoch 27/100\n",
      "44/44 [==============================] - 0s 2ms/step - loss: 0.1808 - accuracy: 0.8132 - val_loss: 0.1847 - val_accuracy: 0.8064\n",
      "Epoch 28/100\n",
      "44/44 [==============================] - 0s 2ms/step - loss: 0.1707 - accuracy: 0.8306 - val_loss: 0.1867 - val_accuracy: 0.8295\n",
      "Epoch 29/100\n",
      "44/44 [==============================] - 0s 2ms/step - loss: 0.1786 - accuracy: 0.8219 - val_loss: 0.1723 - val_accuracy: 0.8295\n",
      "Epoch 30/100\n",
      "44/44 [==============================] - 0s 3ms/step - loss: 0.2205 - accuracy: 0.7545 - val_loss: 0.1893 - val_accuracy: 0.8121\n",
      "Epoch 31/100\n",
      "44/44 [==============================] - 0s 2ms/step - loss: 0.1776 - accuracy: 0.8378 - val_loss: 0.1728 - val_accuracy: 0.8353\n",
      "Epoch 32/100\n",
      "44/44 [==============================] - 0s 2ms/step - loss: 0.1681 - accuracy: 0.8342 - val_loss: 0.1693 - val_accuracy: 0.8382\n",
      "Epoch 33/100\n",
      "44/44 [==============================] - 0s 3ms/step - loss: 0.1672 - accuracy: 0.8364 - val_loss: 0.1695 - val_accuracy: 0.8439\n",
      "Epoch 34/100\n",
      "44/44 [==============================] - 0s 3ms/step - loss: 0.1606 - accuracy: 0.8494 - val_loss: 0.1607 - val_accuracy: 0.8410\n",
      "Epoch 35/100\n",
      "44/44 [==============================] - 0s 2ms/step - loss: 0.1633 - accuracy: 0.8436 - val_loss: 0.1844 - val_accuracy: 0.8410\n",
      "Epoch 36/100\n",
      "44/44 [==============================] - 0s 3ms/step - loss: 0.1648 - accuracy: 0.8501 - val_loss: 0.1769 - val_accuracy: 0.8439\n",
      "Epoch 37/100\n",
      "44/44 [==============================] - 0s 3ms/step - loss: 0.1536 - accuracy: 0.8494 - val_loss: 0.1628 - val_accuracy: 0.8642\n",
      "Epoch 38/100\n",
      "44/44 [==============================] - 0s 2ms/step - loss: 0.1582 - accuracy: 0.8602 - val_loss: 0.1569 - val_accuracy: 0.8584\n",
      "Epoch 39/100\n",
      "44/44 [==============================] - 0s 2ms/step - loss: 0.1547 - accuracy: 0.8573 - val_loss: 0.1570 - val_accuracy: 0.8728\n",
      "Epoch 40/100\n",
      "44/44 [==============================] - 0s 2ms/step - loss: 0.1482 - accuracy: 0.8697 - val_loss: 0.1489 - val_accuracy: 0.8844\n",
      "Epoch 41/100\n",
      "44/44 [==============================] - 0s 2ms/step - loss: 0.1577 - accuracy: 0.8595 - val_loss: 0.1502 - val_accuracy: 0.8584\n",
      "Epoch 42/100\n",
      "44/44 [==============================] - 0s 2ms/step - loss: 0.1482 - accuracy: 0.8653 - val_loss: 0.1499 - val_accuracy: 0.8555\n",
      "Epoch 43/100\n",
      "44/44 [==============================] - 0s 3ms/step - loss: 0.1566 - accuracy: 0.8704 - val_loss: 0.1678 - val_accuracy: 0.8382\n",
      "Epoch 44/100\n",
      "44/44 [==============================] - 0s 2ms/step - loss: 0.1503 - accuracy: 0.8631 - val_loss: 0.1449 - val_accuracy: 0.8844\n",
      "Epoch 45/100\n",
      "44/44 [==============================] - 0s 2ms/step - loss: 0.1434 - accuracy: 0.8820 - val_loss: 0.1466 - val_accuracy: 0.8873\n",
      "Epoch 46/100\n",
      "44/44 [==============================] - 0s 3ms/step - loss: 0.1590 - accuracy: 0.8646 - val_loss: 0.1549 - val_accuracy: 0.8642\n",
      "Epoch 47/100\n",
      "44/44 [==============================] - 0s 3ms/step - loss: 0.1528 - accuracy: 0.8668 - val_loss: 0.1543 - val_accuracy: 0.8526\n",
      "Epoch 48/100\n",
      "44/44 [==============================] - 0s 3ms/step - loss: 0.1608 - accuracy: 0.8508 - val_loss: 0.1629 - val_accuracy: 0.8642\n",
      "Epoch 49/100\n",
      "44/44 [==============================] - 0s 2ms/step - loss: 0.1547 - accuracy: 0.8689 - val_loss: 0.1561 - val_accuracy: 0.8642\n",
      "Epoch 50/100\n",
      "44/44 [==============================] - 0s 2ms/step - loss: 0.1572 - accuracy: 0.8573 - val_loss: 0.1695 - val_accuracy: 0.8468\n",
      "Epoch 51/100\n",
      "44/44 [==============================] - 0s 2ms/step - loss: 0.1491 - accuracy: 0.8624 - val_loss: 0.1485 - val_accuracy: 0.8699\n",
      "Epoch 52/100\n",
      "44/44 [==============================] - 0s 3ms/step - loss: 0.1454 - accuracy: 0.8791 - val_loss: 0.1542 - val_accuracy: 0.8642\n",
      "Epoch 53/100\n",
      "44/44 [==============================] - 0s 3ms/step - loss: 0.1460 - accuracy: 0.8776 - val_loss: 0.1486 - val_accuracy: 0.8699\n",
      "Epoch 54/100\n",
      "44/44 [==============================] - 0s 2ms/step - loss: 0.1429 - accuracy: 0.8849 - val_loss: 0.1495 - val_accuracy: 0.8757\n",
      "Epoch 55/100\n",
      "44/44 [==============================] - 0s 3ms/step - loss: 0.1334 - accuracy: 0.8907 - val_loss: 0.1454 - val_accuracy: 0.8671\n",
      "Epoch 56/100\n",
      "44/44 [==============================] - 0s 2ms/step - loss: 0.1408 - accuracy: 0.8798 - val_loss: 0.1452 - val_accuracy: 0.8728\n",
      "Epoch 57/100\n",
      "44/44 [==============================] - 0s 3ms/step - loss: 0.1437 - accuracy: 0.8704 - val_loss: 0.1513 - val_accuracy: 0.8757\n",
      "Epoch 58/100\n",
      "44/44 [==============================] - 0s 2ms/step - loss: 0.1482 - accuracy: 0.8682 - val_loss: 0.1567 - val_accuracy: 0.8526\n"
     ]
    },
    {
     "name": "stdout",
     "output_type": "stream",
     "text": [
      "Epoch 59/100\n",
      "44/44 [==============================] - 0s 2ms/step - loss: 0.1475 - accuracy: 0.8639 - val_loss: 0.1465 - val_accuracy: 0.8728\n",
      "Epoch 60/100\n",
      "44/44 [==============================] - 0s 3ms/step - loss: 0.1437 - accuracy: 0.8704 - val_loss: 0.1457 - val_accuracy: 0.8613\n",
      "Epoch 61/100\n",
      "44/44 [==============================] - 0s 2ms/step - loss: 0.1452 - accuracy: 0.8653 - val_loss: 0.1581 - val_accuracy: 0.8526\n",
      "Epoch 62/100\n",
      "44/44 [==============================] - 0s 3ms/step - loss: 0.1481 - accuracy: 0.8523 - val_loss: 0.1643 - val_accuracy: 0.8410\n",
      "Epoch 63/100\n",
      "44/44 [==============================] - 0s 3ms/step - loss: 0.1500 - accuracy: 0.8668 - val_loss: 0.1656 - val_accuracy: 0.8526\n",
      "Epoch 64/100\n",
      "44/44 [==============================] - 0s 2ms/step - loss: 0.1530 - accuracy: 0.8653 - val_loss: 0.1667 - val_accuracy: 0.8497\n",
      "Epoch 65/100\n",
      "44/44 [==============================] - 0s 3ms/step - loss: 0.1491 - accuracy: 0.8718 - val_loss: 0.1546 - val_accuracy: 0.8642\n",
      "Epoch 66/100\n",
      "44/44 [==============================] - 0s 2ms/step - loss: 0.1477 - accuracy: 0.8711 - val_loss: 0.1629 - val_accuracy: 0.8555\n",
      "Epoch 67/100\n",
      "44/44 [==============================] - 0s 2ms/step - loss: 0.1504 - accuracy: 0.8682 - val_loss: 0.1545 - val_accuracy: 0.8642\n",
      "Epoch 68/100\n",
      "44/44 [==============================] - 0s 2ms/step - loss: 0.1506 - accuracy: 0.8668 - val_loss: 0.1578 - val_accuracy: 0.8584\n",
      "Epoch 69/100\n",
      "44/44 [==============================] - 0s 3ms/step - loss: 0.1484 - accuracy: 0.8675 - val_loss: 0.1778 - val_accuracy: 0.8410\n",
      "Epoch 70/100\n",
      "44/44 [==============================] - 0s 2ms/step - loss: 0.1644 - accuracy: 0.8487 - val_loss: 0.1743 - val_accuracy: 0.8526\n",
      "Epoch 71/100\n",
      "44/44 [==============================] - 0s 3ms/step - loss: 0.1534 - accuracy: 0.8682 - val_loss: 0.1683 - val_accuracy: 0.8613\n",
      "Epoch 72/100\n",
      "44/44 [==============================] - 0s 2ms/step - loss: 0.1616 - accuracy: 0.8559 - val_loss: 0.1754 - val_accuracy: 0.8410\n",
      "Epoch 73/100\n",
      "44/44 [==============================] - 0s 2ms/step - loss: 0.1540 - accuracy: 0.8660 - val_loss: 0.1495 - val_accuracy: 0.8728\n",
      "Epoch 74/100\n",
      "44/44 [==============================] - 0s 2ms/step - loss: 0.1580 - accuracy: 0.8697 - val_loss: 0.1599 - val_accuracy: 0.8642\n",
      "Epoch 75/100\n",
      "44/44 [==============================] - 0s 3ms/step - loss: 0.1577 - accuracy: 0.8566 - val_loss: 0.1501 - val_accuracy: 0.8699\n",
      "Epoch 76/100\n",
      "44/44 [==============================] - 0s 3ms/step - loss: 0.1372 - accuracy: 0.8791 - val_loss: 0.1580 - val_accuracy: 0.8671\n",
      "Epoch 77/100\n",
      "44/44 [==============================] - 0s 2ms/step - loss: 0.1392 - accuracy: 0.8783 - val_loss: 0.1556 - val_accuracy: 0.8642\n",
      "Epoch 78/100\n",
      "44/44 [==============================] - 0s 3ms/step - loss: 0.1342 - accuracy: 0.8812 - val_loss: 0.1462 - val_accuracy: 0.8699\n",
      "Epoch 79/100\n",
      "44/44 [==============================] - 0s 2ms/step - loss: 0.1395 - accuracy: 0.8805 - val_loss: 0.1520 - val_accuracy: 0.8699\n",
      "Epoch 80/100\n",
      "44/44 [==============================] - 0s 2ms/step - loss: 0.1334 - accuracy: 0.8834 - val_loss: 0.1640 - val_accuracy: 0.8699\n",
      "Epoch 81/100\n",
      "44/44 [==============================] - 0s 3ms/step - loss: 0.1333 - accuracy: 0.8834 - val_loss: 0.1405 - val_accuracy: 0.8815\n",
      "Epoch 82/100\n",
      "44/44 [==============================] - 0s 3ms/step - loss: 0.1345 - accuracy: 0.8841 - val_loss: 0.1509 - val_accuracy: 0.8642\n",
      "Epoch 83/100\n",
      "44/44 [==============================] - 0s 3ms/step - loss: 0.1335 - accuracy: 0.8870 - val_loss: 0.1445 - val_accuracy: 0.8699\n",
      "Epoch 84/100\n",
      "44/44 [==============================] - 0s 2ms/step - loss: 0.1353 - accuracy: 0.8892 - val_loss: 0.1461 - val_accuracy: 0.8728\n",
      "Epoch 85/100\n",
      "44/44 [==============================] - 0s 2ms/step - loss: 0.1372 - accuracy: 0.8870 - val_loss: 0.1439 - val_accuracy: 0.8786\n",
      "Epoch 86/100\n",
      "44/44 [==============================] - 0s 2ms/step - loss: 0.1382 - accuracy: 0.8791 - val_loss: 0.1451 - val_accuracy: 0.8728\n",
      "Epoch 87/100\n",
      "44/44 [==============================] - 0s 3ms/step - loss: 0.1363 - accuracy: 0.8841 - val_loss: 0.1518 - val_accuracy: 0.8728\n",
      "Epoch 88/100\n",
      "44/44 [==============================] - 0s 2ms/step - loss: 0.1428 - accuracy: 0.8755 - val_loss: 0.1621 - val_accuracy: 0.8671\n",
      "Epoch 89/100\n",
      "44/44 [==============================] - 0s 2ms/step - loss: 0.1413 - accuracy: 0.8755 - val_loss: 0.1501 - val_accuracy: 0.8613\n",
      "Epoch 90/100\n",
      "44/44 [==============================] - 0s 2ms/step - loss: 0.1539 - accuracy: 0.8631 - val_loss: 0.1518 - val_accuracy: 0.8671\n",
      "Epoch 91/100\n",
      "44/44 [==============================] - 0s 2ms/step - loss: 0.1367 - accuracy: 0.8776 - val_loss: 0.1460 - val_accuracy: 0.8613\n",
      "Epoch 92/100\n",
      "44/44 [==============================] - 0s 2ms/step - loss: 0.1322 - accuracy: 0.8856 - val_loss: 0.1478 - val_accuracy: 0.8786\n",
      "Epoch 93/100\n",
      "44/44 [==============================] - 0s 3ms/step - loss: 0.1365 - accuracy: 0.8899 - val_loss: 0.1466 - val_accuracy: 0.8584\n",
      "Epoch 94/100\n",
      "44/44 [==============================] - 0s 2ms/step - loss: 0.1430 - accuracy: 0.8805 - val_loss: 0.1365 - val_accuracy: 0.8786\n",
      "Epoch 95/100\n",
      "44/44 [==============================] - 0s 2ms/step - loss: 0.1324 - accuracy: 0.8899 - val_loss: 0.1364 - val_accuracy: 0.8757\n",
      "Epoch 96/100\n",
      "44/44 [==============================] - 0s 2ms/step - loss: 0.1382 - accuracy: 0.8805 - val_loss: 0.1350 - val_accuracy: 0.8844\n",
      "Epoch 97/100\n",
      "44/44 [==============================] - 0s 3ms/step - loss: 0.1338 - accuracy: 0.8849 - val_loss: 0.1322 - val_accuracy: 0.8844\n",
      "Epoch 98/100\n",
      "44/44 [==============================] - 0s 3ms/step - loss: 0.1323 - accuracy: 0.8892 - val_loss: 0.1303 - val_accuracy: 0.8844\n",
      "Epoch 99/100\n",
      "44/44 [==============================] - 0s 3ms/step - loss: 0.1313 - accuracy: 0.8899 - val_loss: 0.1339 - val_accuracy: 0.8844\n",
      "Epoch 100/100\n",
      "44/44 [==============================] - 0s 2ms/step - loss: 0.1346 - accuracy: 0.8899 - val_loss: 0.1345 - val_accuracy: 0.8844\n",
      "11/11 [==============================] - 0s 2ms/step\n"
     ]
    }
   ],
   "source": [
    "# fit network\n",
    "model_history=model.fit(x=X_train, y=y_train, epochs=100, batch_size=32,validation_data= (X_test,y_test))\n",
    "y_pred = model.predict(X_test)\n",
    "\n",
    "y_test_class = np.argmax(y_test,axis=1)\n",
    "y_pred_class = np.argmax(y_pred,axis=1)"
   ]
  },
  {
   "cell_type": "code",
   "execution_count": 67,
   "id": "937b98ad",
   "metadata": {},
   "outputs": [
    {
     "name": "stdout",
     "output_type": "stream",
     "text": [
      "              precision    recall  f1-score   support\n",
      "\n",
      "           0       0.70      0.90      0.78        77\n",
      "           1       0.00      0.00      0.00        15\n",
      "           2       0.99      0.94      0.96       237\n",
      "           3       0.65      0.88      0.75        17\n",
      "\n",
      "    accuracy                           0.88       346\n",
      "   macro avg       0.59      0.68      0.62       346\n",
      "weighted avg       0.87      0.88      0.87       346\n",
      "\n",
      "[[ 69   0   2   6]\n",
      " [ 15   0   0   0]\n",
      " [ 13   0 222   2]\n",
      " [  2   0   0  15]]\n"
     ]
    },
    {
     "name": "stderr",
     "output_type": "stream",
     "text": [
      "C:\\Users\\Cold min\\anaconda3\\lib\\site-packages\\sklearn\\metrics\\_classification.py:1318: UndefinedMetricWarning: Precision and F-score are ill-defined and being set to 0.0 in labels with no predicted samples. Use `zero_division` parameter to control this behavior.\n",
      "  _warn_prf(average, modifier, msg_start, len(result))\n",
      "C:\\Users\\Cold min\\anaconda3\\lib\\site-packages\\sklearn\\metrics\\_classification.py:1318: UndefinedMetricWarning: Precision and F-score are ill-defined and being set to 0.0 in labels with no predicted samples. Use `zero_division` parameter to control this behavior.\n",
      "  _warn_prf(average, modifier, msg_start, len(result))\n",
      "C:\\Users\\Cold min\\anaconda3\\lib\\site-packages\\sklearn\\metrics\\_classification.py:1318: UndefinedMetricWarning: Precision and F-score are ill-defined and being set to 0.0 in labels with no predicted samples. Use `zero_division` parameter to control this behavior.\n",
      "  _warn_prf(average, modifier, msg_start, len(result))\n"
     ]
    }
   ],
   "source": [
    "         #Accuracy of the predicted values\n",
    "from sklearn.metrics import classification_report,confusion_matrix\n",
    "print(classification_report(y_test_class,y_pred_class))\n",
    "print(confusion_matrix(y_test_class,y_pred_class))"
   ]
  },
  {
   "cell_type": "code",
   "execution_count": null,
   "id": "87cc1568",
   "metadata": {},
   "outputs": [],
   "source": []
  }
 ],
 "metadata": {
  "kernelspec": {
   "display_name": "Python 3 (ipykernel)",
   "language": "python",
   "name": "python3"
  },
  "language_info": {
   "codemirror_mode": {
    "name": "ipython",
    "version": 3
   },
   "file_extension": ".py",
   "mimetype": "text/x-python",
   "name": "python",
   "nbconvert_exporter": "python",
   "pygments_lexer": "ipython3",
   "version": "3.9.13"
  }
 },
 "nbformat": 4,
 "nbformat_minor": 5
}
