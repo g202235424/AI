{
 "cells": [
  {
   "cell_type": "code",
   "execution_count": 1,
   "id": "4db934c2",
   "metadata": {},
   "outputs": [
    {
     "data": {
      "text/plain": [
       "<matplotlib.image.AxesImage at 0x251339976d0>"
      ]
     },
     "execution_count": 1,
     "metadata": {},
     "output_type": "execute_result"
    },
    {
     "data": {
      "image/png": "[encoded data removed]",
      "text/plain": [
       "<Figure size 640x480 with 1 Axes>"
      ]
     },
     "metadata": {},
     "output_type": "display_data"
    }
   ],
   "source": [
    "import matplotlib.pyplot as plt\n",
    "from sklearn import datasets, metrics\n",
    "from sklearn.model_selection import train_test_split\n",
    "\n",
    "\n",
    "digits = datasets.load_digits()\n",
    "plt.imshow(digits.images[0], cmap=plt.cm.gray_r, interpolation='nearest')"
   ]
  },
  {
   "cell_type": "code",
   "execution_count": 2,
   "id": "8b90eddd",
   "metadata": {},
   "outputs": [],
   "source": [
    "n_samples = len(digits.images)\n",
    "\n",
    "data = digits.images.reshape((n_samples, -1))\n",
    "\n",
    "# 이미지를 평판화 n x sample x 8 8 => n_sample x 64"
   ]
  },
  {
   "cell_type": "code",
   "execution_count": 91,
   "id": "d927c439",
   "metadata": {},
   "outputs": [],
   "source": [
    "\n",
    "X_train, X_test, y_train, y_test = train_test_split(data, digits.target, test_size=0.2)"
   ]
  },
  {
   "cell_type": "code",
   "execution_count": 92,
   "id": "d4c5ad5b",
   "metadata": {},
   "outputs": [
    {
     "name": "stdout",
     "output_type": "stream",
     "text": [
      "X train : (1437, 64)\n",
      "y train : (1437,)\n",
      "X test : (360, 64)\n",
      "y test : (360,)\n"
     ]
    }
   ],
   "source": [
    "print(\"X train :\", X_train.shape)\n",
    "print(\"y train :\", y_train.shape)\n",
    "print(\"X test :\", X_test.shape)\n",
    "print(\"y test :\", y_test.shape)"
   ]
  },
  {
   "cell_type": "code",
   "execution_count": 93,
   "id": "528846bf",
   "metadata": {},
   "outputs": [],
   "source": [
    "from sklearn.linear_model import LogisticRegression\n",
    "from sklearn.svm import SVC\n",
    "from sklearn.neural_network import MLPClassifier\n",
    "from sklearn.tree import DecisionTreeClassifier\n",
    "from sklearn.metrics import accuracy_score\n",
    "from sklearn.metrics import confusion_matrix\n",
    "from sklearn.model_selection import train_test_split"
   ]
  },
  {
   "cell_type": "code",
   "execution_count": 94,
   "id": "b416b7b6",
   "metadata": {},
   "outputs": [
    {
     "name": "stdout",
     "output_type": "stream",
     "text": [
      "\n",
      "--- Logistic Regression Classifier ---\n",
      "0.9638888888888889\n",
      "[[35  0  0  0  1  0  0  0  0  0]\n",
      " [ 0 40  0  0  0  0  0  0  0  1]\n",
      " [ 0  0 34  1  0  0  0  0  0  0]\n",
      " [ 0  0  1 33  0  0  0  0  0  0]\n",
      " [ 0  0  0  0 35  0  0  0  0  0]\n",
      " [ 0  0  0  1  0 30  0  1  0  0]\n",
      " [ 0  0  0  0  0  0 39  0  0  0]\n",
      " [ 0  0  0  0  0  0  0 32  0  0]\n",
      " [ 0  4  0  0  0  0  1  0 27  0]\n",
      " [ 0  0  0  1  0  0  0  0  1 42]]\n"
     ]
    }
   ],
   "source": [
    "# Build a logistic regression classifier and predict\n",
    "\n",
    "clf_lr = LogisticRegression(random_state=0)\n",
    "clf_lr.fit(X_train, y_train)\n",
    "\n",
    "pred_lr = clf_lr.predict(X_test)\n",
    "\n",
    "print (\"\\n--- Logistic Regression Classifier ---\")\n",
    "print (accuracy_score(y_test, pred_lr))\n",
    "print (confusion_matrix(y_test, pred_lr))"
   ]
  },
  {
   "cell_type": "code",
   "execution_count": 95,
   "id": "b918c878",
   "metadata": {},
   "outputs": [
    {
     "data": {
      "text/plain": [
       "KNeighborsClassifier(n_neighbors=6)"
      ]
     },
     "execution_count": 95,
     "metadata": {},
     "output_type": "execute_result"
    }
   ],
   "source": [
    "from sklearn.neighbors import KNeighborsClassifier\n",
    "knn = KNeighborsClassifier(n_neighbors=6)\n",
    "knn.fit(X_train, y_train)"
   ]
  },
  {
   "cell_type": "code",
   "execution_count": 96,
   "id": "c51395f1",
   "metadata": {},
   "outputs": [
    {
     "name": "stdout",
     "output_type": "stream",
     "text": [
      "0.9888888888888889\n"
     ]
    }
   ],
   "source": [
    "# 테스트 데이터로 예측해본다.\n",
    "\n",
    "y_pred = knn.predict(X_test)\n",
    "# 정확도를 계산한다.\n",
    "\n",
    "scores = metrics.accuracy_score(y_test, y_pred)\n",
    "print(scores)"
   ]
  },
  {
   "cell_type": "code",
   "execution_count": 97,
   "id": "db18d096",
   "metadata": {},
   "outputs": [
    {
     "name": "stdout",
     "output_type": "stream",
     "text": [
      "\n",
      "--- SVM Classifier ---\n",
      "0.9888888888888889\n",
      "[[35  0  0  0  1  0  0  0  0  0]\n",
      " [ 0 41  0  0  0  0  0  0  0  0]\n",
      " [ 0  0 35  0  0  0  0  0  0  0]\n",
      " [ 0  0  0 33  0  0  0  0  1  0]\n",
      " [ 0  0  0  0 35  0  0  0  0  0]\n",
      " [ 0  0  0  0  0 32  0  0  0  0]\n",
      " [ 0  0  0  0  0  0 39  0  0  0]\n",
      " [ 0  0  0  0  0  0  0 32  0  0]\n",
      " [ 0  1  0  0  0  0  0  0 31  0]\n",
      " [ 0  0  0  1  0  0  0  0  0 43]]\n"
     ]
    }
   ],
   "source": [
    "from sklearn.svm import SVC\n",
    "\n",
    "clf_svm = SVC(random_state=0)\n",
    "clf_svm.fit(X_train, y_train)\n",
    "\n",
    "pred_svm = clf_svm.predict(X_test)\n",
    "\n",
    "print(\"\\n--- SVM Classifier ---\")\n",
    "print(accuracy_score(y_test, pred_svm))\n",
    "print(confusion_matrix(y_test, pred_svm))"
   ]
  },
  {
   "cell_type": "code",
   "execution_count": 98,
   "id": "60c64397",
   "metadata": {},
   "outputs": [
    {
     "name": "stdout",
     "output_type": "stream",
     "text": [
      "\n",
      "--- Decision Tree Classifier ---\n",
      "0.8222222222222222\n",
      "[[34  0  0  0  0  0  0  1  1  0]\n",
      " [ 0 30  2  1  2  0  0  1  2  3]\n",
      " [ 0  2 32  1  0  0  0  0  0  0]\n",
      " [ 0  1  1 31  0  0  0  0  0  1]\n",
      " [ 1  0  0  0 28  0  2  4  0  0]\n",
      " [ 1  0  0  0  1 28  1  0  0  1]\n",
      " [ 0  0  1  0  1  0 37  0  0  0]\n",
      " [ 0  1  0  0  2  0  0 24  0  5]\n",
      " [ 1  2  2  2  1  0  0  1 23  0]\n",
      " [ 1  0  0  3  8  1  1  0  1 29]]\n"
     ]
    }
   ],
   "source": [
    "clf_dt = DecisionTreeClassifier(random_state=0)\n",
    "clf_dt.fit(X_train, y_train)\n",
    "\n",
    "pred_dt = clf_dt.predict(X_test)\n",
    "\n",
    "print (\"\\n--- Decision Tree Classifier ---\")\n",
    "print (accuracy_score(y_test, pred_dt))\n",
    "print (confusion_matrix(y_test, pred_dt))"
   ]
  },
  {
   "cell_type": "code",
   "execution_count": 99,
   "id": "22dcae12",
   "metadata": {
    "scrolled": true
   },
   "outputs": [
    {
     "name": "stdout",
     "output_type": "stream",
     "text": [
      "\n",
      "--- Radom Forest ---\n",
      "0.975\n",
      "[[35  0  0  0  1  0  0  0  0  0]\n",
      " [ 0 41  0  0  0  0  0  0  0  0]\n",
      " [ 0  0 35  0  0  0  0  0  0  0]\n",
      " [ 0  0  0 32  0  1  0  0  1  0]\n",
      " [ 0  0  0  0 35  0  0  0  0  0]\n",
      " [ 0  0  0  0  0 32  0  0  0  0]\n",
      " [ 0  0  0  0  0  0 39  0  0  0]\n",
      " [ 0  0  0  0  0  0  0 32  0  0]\n",
      " [ 0  1  1  0  0  1  0  1 28  0]\n",
      " [ 0  0  0  0  0  0  0  1  1 42]]\n"
     ]
    }
   ],
   "source": [
    "from sklearn.ensemble import RandomForestClassifier\n",
    "from sklearn.metrics import accuracy_score\n",
    "import pandas as pd\n",
    "import warnings\n",
    "warnings.filterwarnings('ignore')\n",
    "\n",
    "print (\"\\n--- Radom Forest ---\")\n",
    "rf_clf = RandomForestClassifier(random_state=0)\n",
    "rf_clf.fit(X_train, y_train)\n",
    "pred = rf_clf.predict(X_test)\n",
    "print(accuracy_score(y_test,pred))\n",
    "print (confusion_matrix(y_test, pred))"
   ]
  },
  {
   "cell_type": "code",
   "execution_count": 113,
   "id": "2d6a1ab4",
   "metadata": {},
   "outputs": [],
   "source": [
    "from sklearn.preprocessing import LabelEncoder\n",
    "encoder =  LabelEncoder()\n",
    "\n",
    "y = digits.target\n",
    "y1 = encoder.fit_transform(y)\n",
    "\n",
    "Y = pd.get_dummies(y1).values\n",
    "\n",
    "X_train, X_test, y_train, y_test = train_test_split(data, Y, test_size=0.2)"
   ]
  },
  {
   "cell_type": "code",
   "execution_count": 114,
   "id": "f88020a4",
   "metadata": {
    "scrolled": true
   },
   "outputs": [
    {
     "data": {
      "text/plain": [
       "(1437, 64)"
      ]
     },
     "execution_count": 114,
     "metadata": {},
     "output_type": "execute_result"
    }
   ],
   "source": [
    "X_train.shape"
   ]
  },
  {
   "cell_type": "code",
   "execution_count": 115,
   "id": "2a9779a1",
   "metadata": {},
   "outputs": [
    {
     "data": {
      "text/plain": [
       "(1437, 10)"
      ]
     },
     "execution_count": 115,
     "metadata": {},
     "output_type": "execute_result"
    }
   ],
   "source": [
    "y_train.shape"
   ]
  },
  {
   "cell_type": "code",
   "execution_count": 116,
   "id": "3dd6b6ea",
   "metadata": {},
   "outputs": [
    {
     "name": "stderr",
     "output_type": "stream",
     "text": [
      "WARNING:absl:`lr` is deprecated in Keras optimizer, please use `learning_rate` or use the legacy optimizer, e.g.,tf.keras.optimizers.legacy.Adam.\n"
     ]
    },
    {
     "name": "stdout",
     "output_type": "stream",
     "text": [
      "Model: \"sequential_28\"\n",
      "_________________________________________________________________\n",
      " Layer (type)                Output Shape              Param #   \n",
      "=================================================================\n",
      " dense_105 (Dense)           (None, 50)                3250      \n",
      "                                                                 \n",
      " dense_106 (Dense)           (None, 40)                2040      \n",
      "                                                                 \n",
      " dense_107 (Dense)           (None, 30)                1230      \n",
      "                                                                 \n",
      " dense_108 (Dense)           (None, 10)                310       \n",
      "                                                                 \n",
      "=================================================================\n",
      "Total params: 6,830\n",
      "Trainable params: 6,830\n",
      "Non-trainable params: 0\n",
      "_________________________________________________________________\n"
     ]
    }
   ],
   "source": [
    "from tensorflow.keras import models\n",
    "from tensorflow.keras import layers\n",
    "from tensorflow.keras.optimizers import SGD,Adam\n",
    "\n",
    "def build_model(): \n",
    "    model = models.Sequential()\n",
    "    model.add(layers.Dense(50, activation='sigmoid', input_shape=(64,)))\n",
    "    model.add(layers.Dense(40, activation='sigmoid'))\n",
    "    model.add(layers.Dense(30, activation='sigmoid'))\n",
    "    model.add(layers.Dense(10, activation='softmax'))\n",
    "    model.compile(Adam(lr=0.04),'categorical_crossentropy',metrics=['accuracy'])\n",
    "    \n",
    "    return model\n",
    "\n",
    "\n",
    "model = build_model() \n",
    "\n",
    "model.summary()\n"
   ]
  },
  {
   "cell_type": "code",
   "execution_count": 117,
   "id": "9e80bd51",
   "metadata": {
    "scrolled": false
   },
   "outputs": [
    {
     "name": "stdout",
     "output_type": "stream",
     "text": [
      "Epoch 1/100\n",
      "45/45 [==============================] - 3s 27ms/step - loss: 2.2994 - accuracy: 0.2150 - val_loss: 2.2430 - val_accuracy: 0.3889\n",
      "Epoch 2/100\n",
      "45/45 [==============================] - 0s 6ms/step - loss: 2.2018 - accuracy: 0.3953 - val_loss: 2.1615 - val_accuracy: 0.4806\n",
      "Epoch 3/100\n",
      "45/45 [==============================] - 0s 6ms/step - loss: 2.0905 - accuracy: 0.5978 - val_loss: 2.0318 - val_accuracy: 0.5806\n",
      "Epoch 4/100\n",
      "45/45 [==============================] - 0s 6ms/step - loss: 1.9287 - accuracy: 0.6242 - val_loss: 1.8602 - val_accuracy: 0.6028\n",
      "Epoch 5/100\n",
      "45/45 [==============================] - 0s 7ms/step - loss: 1.7366 - accuracy: 0.7168 - val_loss: 1.6641 - val_accuracy: 0.6889\n",
      "Epoch 6/100\n",
      "45/45 [==============================] - 0s 6ms/step - loss: 1.5347 - accuracy: 0.7878 - val_loss: 1.4684 - val_accuracy: 0.7444\n",
      "Epoch 7/100\n",
      "45/45 [==============================] - 0s 7ms/step - loss: 1.3385 - accuracy: 0.8232 - val_loss: 1.2782 - val_accuracy: 0.8056\n",
      "Epoch 8/100\n",
      "45/45 [==============================] - 0s 6ms/step - loss: 1.1571 - accuracy: 0.8629 - val_loss: 1.1090 - val_accuracy: 0.8472\n",
      "Epoch 9/100\n",
      "45/45 [==============================] - 0s 6ms/step - loss: 0.9949 - accuracy: 0.9019 - val_loss: 0.9638 - val_accuracy: 0.8639\n",
      "Epoch 10/100\n",
      "45/45 [==============================] - 0s 6ms/step - loss: 0.8546 - accuracy: 0.9221 - val_loss: 0.8314 - val_accuracy: 0.8861\n",
      "Epoch 11/100\n",
      "45/45 [==============================] - 0s 6ms/step - loss: 0.7346 - accuracy: 0.9325 - val_loss: 0.7203 - val_accuracy: 0.8944\n",
      "Epoch 12/100\n",
      "45/45 [==============================] - 0s 6ms/step - loss: 0.6304 - accuracy: 0.9471 - val_loss: 0.6333 - val_accuracy: 0.9083\n",
      "Epoch 13/100\n",
      "45/45 [==============================] - 0s 6ms/step - loss: 0.5403 - accuracy: 0.9569 - val_loss: 0.5570 - val_accuracy: 0.9139\n",
      "Epoch 14/100\n",
      "45/45 [==============================] - 0s 6ms/step - loss: 0.4661 - accuracy: 0.9624 - val_loss: 0.4839 - val_accuracy: 0.9194\n",
      "Epoch 15/100\n",
      "45/45 [==============================] - 0s 6ms/step - loss: 0.4029 - accuracy: 0.9645 - val_loss: 0.4357 - val_accuracy: 0.9306\n",
      "Epoch 16/100\n",
      "45/45 [==============================] - 0s 6ms/step - loss: 0.3483 - accuracy: 0.9729 - val_loss: 0.3807 - val_accuracy: 0.9361\n",
      "Epoch 17/100\n",
      "45/45 [==============================] - 0s 6ms/step - loss: 0.3062 - accuracy: 0.9749 - val_loss: 0.3452 - val_accuracy: 0.9389\n",
      "Epoch 18/100\n",
      "45/45 [==============================] - 0s 6ms/step - loss: 0.2701 - accuracy: 0.9736 - val_loss: 0.3167 - val_accuracy: 0.9417\n",
      "Epoch 19/100\n",
      "45/45 [==============================] - 0s 6ms/step - loss: 0.2397 - accuracy: 0.9798 - val_loss: 0.2918 - val_accuracy: 0.9472\n",
      "Epoch 20/100\n",
      "45/45 [==============================] - 0s 6ms/step - loss: 0.2143 - accuracy: 0.9805 - val_loss: 0.2702 - val_accuracy: 0.9417\n",
      "Epoch 21/100\n",
      "45/45 [==============================] - 0s 6ms/step - loss: 0.1947 - accuracy: 0.9840 - val_loss: 0.2577 - val_accuracy: 0.9389\n",
      "Epoch 22/100\n",
      "45/45 [==============================] - 0s 6ms/step - loss: 0.1742 - accuracy: 0.9840 - val_loss: 0.2480 - val_accuracy: 0.9417\n",
      "Epoch 23/100\n",
      "45/45 [==============================] - 0s 6ms/step - loss: 0.1576 - accuracy: 0.9861 - val_loss: 0.2372 - val_accuracy: 0.9389\n",
      "Epoch 24/100\n",
      "45/45 [==============================] - 0s 6ms/step - loss: 0.1436 - accuracy: 0.9889 - val_loss: 0.2306 - val_accuracy: 0.9417\n",
      "Epoch 25/100\n",
      "45/45 [==============================] - 0s 6ms/step - loss: 0.1296 - accuracy: 0.9896 - val_loss: 0.2130 - val_accuracy: 0.9389\n",
      "Epoch 26/100\n",
      "45/45 [==============================] - 0s 6ms/step - loss: 0.1188 - accuracy: 0.9910 - val_loss: 0.2025 - val_accuracy: 0.9472\n",
      "Epoch 27/100\n",
      "45/45 [==============================] - 0s 6ms/step - loss: 0.1099 - accuracy: 0.9910 - val_loss: 0.1980 - val_accuracy: 0.9444\n",
      "Epoch 28/100\n",
      "45/45 [==============================] - 0s 6ms/step - loss: 0.1011 - accuracy: 0.9923 - val_loss: 0.1961 - val_accuracy: 0.9472\n",
      "Epoch 29/100\n",
      "45/45 [==============================] - 0s 6ms/step - loss: 0.0938 - accuracy: 0.9930 - val_loss: 0.1840 - val_accuracy: 0.9444\n",
      "Epoch 30/100\n",
      "45/45 [==============================] - 0s 6ms/step - loss: 0.0870 - accuracy: 0.9923 - val_loss: 0.1743 - val_accuracy: 0.9500\n",
      "Epoch 31/100\n",
      "45/45 [==============================] - 0s 6ms/step - loss: 0.0813 - accuracy: 0.9944 - val_loss: 0.1712 - val_accuracy: 0.9500\n",
      "Epoch 32/100\n",
      "45/45 [==============================] - 0s 6ms/step - loss: 0.0750 - accuracy: 0.9937 - val_loss: 0.1686 - val_accuracy: 0.9500\n",
      "Epoch 33/100\n",
      "45/45 [==============================] - 0s 6ms/step - loss: 0.0704 - accuracy: 0.9944 - val_loss: 0.1697 - val_accuracy: 0.9472\n",
      "Epoch 34/100\n",
      "45/45 [==============================] - 0s 6ms/step - loss: 0.0652 - accuracy: 0.9951 - val_loss: 0.1644 - val_accuracy: 0.9500\n",
      "Epoch 35/100\n",
      "45/45 [==============================] - 0s 6ms/step - loss: 0.0616 - accuracy: 0.9944 - val_loss: 0.1680 - val_accuracy: 0.9472\n",
      "Epoch 36/100\n",
      "45/45 [==============================] - 0s 6ms/step - loss: 0.0572 - accuracy: 0.9951 - val_loss: 0.1703 - val_accuracy: 0.9472\n",
      "Epoch 37/100\n",
      "45/45 [==============================] - 0s 6ms/step - loss: 0.0533 - accuracy: 0.9965 - val_loss: 0.1536 - val_accuracy: 0.9444\n",
      "Epoch 38/100\n",
      "45/45 [==============================] - 0s 6ms/step - loss: 0.0499 - accuracy: 0.9972 - val_loss: 0.1502 - val_accuracy: 0.9500\n",
      "Epoch 39/100\n",
      "45/45 [==============================] - 0s 6ms/step - loss: 0.0468 - accuracy: 0.9972 - val_loss: 0.1551 - val_accuracy: 0.9500\n",
      "Epoch 40/100\n",
      "45/45 [==============================] - 0s 6ms/step - loss: 0.0440 - accuracy: 0.9986 - val_loss: 0.1449 - val_accuracy: 0.9528\n",
      "Epoch 41/100\n",
      "45/45 [==============================] - 0s 6ms/step - loss: 0.0418 - accuracy: 0.9986 - val_loss: 0.1436 - val_accuracy: 0.9472\n",
      "Epoch 42/100\n",
      "45/45 [==============================] - 0s 6ms/step - loss: 0.0392 - accuracy: 0.9986 - val_loss: 0.1426 - val_accuracy: 0.9500\n",
      "Epoch 43/100\n",
      "45/45 [==============================] - 0s 6ms/step - loss: 0.0371 - accuracy: 0.9986 - val_loss: 0.1399 - val_accuracy: 0.9528\n",
      "Epoch 44/100\n",
      "45/45 [==============================] - 0s 6ms/step - loss: 0.0356 - accuracy: 0.9986 - val_loss: 0.1422 - val_accuracy: 0.9472\n",
      "Epoch 45/100\n",
      "45/45 [==============================] - 0s 6ms/step - loss: 0.0330 - accuracy: 0.9986 - val_loss: 0.1425 - val_accuracy: 0.9528\n",
      "Epoch 46/100\n",
      "45/45 [==============================] - 0s 6ms/step - loss: 0.0305 - accuracy: 0.9993 - val_loss: 0.1409 - val_accuracy: 0.9500\n",
      "Epoch 47/100\n",
      "45/45 [==============================] - 0s 6ms/step - loss: 0.0284 - accuracy: 1.0000 - val_loss: 0.1374 - val_accuracy: 0.9472\n",
      "Epoch 48/100\n",
      "45/45 [==============================] - 0s 6ms/step - loss: 0.0269 - accuracy: 0.9986 - val_loss: 0.1403 - val_accuracy: 0.9500\n",
      "Epoch 49/100\n",
      "45/45 [==============================] - 0s 6ms/step - loss: 0.0255 - accuracy: 1.0000 - val_loss: 0.1296 - val_accuracy: 0.9500\n",
      "Epoch 50/100\n",
      "45/45 [==============================] - 0s 6ms/step - loss: 0.0239 - accuracy: 1.0000 - val_loss: 0.1364 - val_accuracy: 0.9500\n",
      "Epoch 51/100\n",
      "45/45 [==============================] - 0s 6ms/step - loss: 0.0227 - accuracy: 1.0000 - val_loss: 0.1365 - val_accuracy: 0.9528\n",
      "Epoch 52/100\n",
      "45/45 [==============================] - 0s 6ms/step - loss: 0.0214 - accuracy: 1.0000 - val_loss: 0.1337 - val_accuracy: 0.9528\n",
      "Epoch 53/100\n",
      "45/45 [==============================] - 0s 7ms/step - loss: 0.0203 - accuracy: 1.0000 - val_loss: 0.1351 - val_accuracy: 0.9528\n",
      "Epoch 54/100\n",
      "45/45 [==============================] - 0s 6ms/step - loss: 0.0195 - accuracy: 1.0000 - val_loss: 0.1378 - val_accuracy: 0.9500\n",
      "Epoch 55/100\n",
      "45/45 [==============================] - 0s 6ms/step - loss: 0.0184 - accuracy: 1.0000 - val_loss: 0.1306 - val_accuracy: 0.9500\n",
      "Epoch 56/100\n",
      "45/45 [==============================] - 0s 6ms/step - loss: 0.0176 - accuracy: 1.0000 - val_loss: 0.1366 - val_accuracy: 0.9500\n",
      "Epoch 57/100\n",
      "45/45 [==============================] - 0s 6ms/step - loss: 0.0167 - accuracy: 1.0000 - val_loss: 0.1337 - val_accuracy: 0.9500\n",
      "Epoch 58/100\n",
      "45/45 [==============================] - 0s 6ms/step - loss: 0.0159 - accuracy: 1.0000 - val_loss: 0.1320 - val_accuracy: 0.9500\n"
     ]
    },
    {
     "name": "stdout",
     "output_type": "stream",
     "text": [
      "Epoch 59/100\n",
      "45/45 [==============================] - 0s 6ms/step - loss: 0.0153 - accuracy: 1.0000 - val_loss: 0.1329 - val_accuracy: 0.9500\n",
      "Epoch 60/100\n",
      "45/45 [==============================] - 0s 6ms/step - loss: 0.0145 - accuracy: 1.0000 - val_loss: 0.1325 - val_accuracy: 0.9500\n",
      "Epoch 61/100\n",
      "45/45 [==============================] - 0s 6ms/step - loss: 0.0139 - accuracy: 1.0000 - val_loss: 0.1326 - val_accuracy: 0.9500\n",
      "Epoch 62/100\n",
      "45/45 [==============================] - 0s 6ms/step - loss: 0.0133 - accuracy: 1.0000 - val_loss: 0.1325 - val_accuracy: 0.9500\n",
      "Epoch 63/100\n",
      "45/45 [==============================] - 0s 6ms/step - loss: 0.0127 - accuracy: 1.0000 - val_loss: 0.1297 - val_accuracy: 0.9500\n",
      "Epoch 64/100\n",
      "45/45 [==============================] - 0s 6ms/step - loss: 0.0122 - accuracy: 1.0000 - val_loss: 0.1318 - val_accuracy: 0.9500\n",
      "Epoch 65/100\n",
      "45/45 [==============================] - 0s 6ms/step - loss: 0.0117 - accuracy: 1.0000 - val_loss: 0.1331 - val_accuracy: 0.9472\n",
      "Epoch 66/100\n",
      "45/45 [==============================] - 0s 6ms/step - loss: 0.0112 - accuracy: 1.0000 - val_loss: 0.1279 - val_accuracy: 0.9500\n",
      "Epoch 67/100\n",
      "45/45 [==============================] - 0s 6ms/step - loss: 0.0108 - accuracy: 1.0000 - val_loss: 0.1280 - val_accuracy: 0.9500\n",
      "Epoch 68/100\n",
      "45/45 [==============================] - 0s 6ms/step - loss: 0.0104 - accuracy: 1.0000 - val_loss: 0.1291 - val_accuracy: 0.9500\n",
      "Epoch 69/100\n",
      "45/45 [==============================] - 0s 6ms/step - loss: 0.0100 - accuracy: 1.0000 - val_loss: 0.1261 - val_accuracy: 0.9528\n",
      "Epoch 70/100\n",
      "45/45 [==============================] - 0s 6ms/step - loss: 0.0096 - accuracy: 1.0000 - val_loss: 0.1294 - val_accuracy: 0.9500\n",
      "Epoch 71/100\n",
      "45/45 [==============================] - 0s 6ms/step - loss: 0.0092 - accuracy: 1.0000 - val_loss: 0.1285 - val_accuracy: 0.9528\n",
      "Epoch 72/100\n",
      "45/45 [==============================] - 0s 6ms/step - loss: 0.0089 - accuracy: 1.0000 - val_loss: 0.1266 - val_accuracy: 0.9528\n",
      "Epoch 73/100\n",
      "45/45 [==============================] - 0s 6ms/step - loss: 0.0086 - accuracy: 1.0000 - val_loss: 0.1288 - val_accuracy: 0.9500\n",
      "Epoch 74/100\n",
      "45/45 [==============================] - 0s 6ms/step - loss: 0.0083 - accuracy: 1.0000 - val_loss: 0.1301 - val_accuracy: 0.9528\n",
      "Epoch 75/100\n",
      "45/45 [==============================] - 0s 6ms/step - loss: 0.0080 - accuracy: 1.0000 - val_loss: 0.1297 - val_accuracy: 0.9528\n",
      "Epoch 76/100\n",
      "45/45 [==============================] - 0s 6ms/step - loss: 0.0077 - accuracy: 1.0000 - val_loss: 0.1308 - val_accuracy: 0.9500\n",
      "Epoch 77/100\n",
      "45/45 [==============================] - 0s 6ms/step - loss: 0.0074 - accuracy: 1.0000 - val_loss: 0.1282 - val_accuracy: 0.9528\n",
      "Epoch 78/100\n",
      "45/45 [==============================] - 0s 6ms/step - loss: 0.0072 - accuracy: 1.0000 - val_loss: 0.1266 - val_accuracy: 0.9528\n",
      "Epoch 79/100\n",
      "45/45 [==============================] - 0s 6ms/step - loss: 0.0069 - accuracy: 1.0000 - val_loss: 0.1335 - val_accuracy: 0.9500\n",
      "Epoch 80/100\n",
      "45/45 [==============================] - 0s 6ms/step - loss: 0.0067 - accuracy: 1.0000 - val_loss: 0.1298 - val_accuracy: 0.9528\n",
      "Epoch 81/100\n",
      "45/45 [==============================] - 0s 6ms/step - loss: 0.0065 - accuracy: 1.0000 - val_loss: 0.1275 - val_accuracy: 0.9500\n",
      "Epoch 82/100\n",
      "45/45 [==============================] - 0s 6ms/step - loss: 0.0062 - accuracy: 1.0000 - val_loss: 0.1301 - val_accuracy: 0.9528\n",
      "Epoch 83/100\n",
      "45/45 [==============================] - 0s 6ms/step - loss: 0.0060 - accuracy: 1.0000 - val_loss: 0.1292 - val_accuracy: 0.9528\n",
      "Epoch 84/100\n",
      "45/45 [==============================] - 0s 6ms/step - loss: 0.0058 - accuracy: 1.0000 - val_loss: 0.1287 - val_accuracy: 0.9500\n",
      "Epoch 85/100\n",
      "45/45 [==============================] - 0s 7ms/step - loss: 0.0057 - accuracy: 1.0000 - val_loss: 0.1295 - val_accuracy: 0.9500\n",
      "Epoch 86/100\n",
      "45/45 [==============================] - 0s 6ms/step - loss: 0.0055 - accuracy: 1.0000 - val_loss: 0.1260 - val_accuracy: 0.9528\n",
      "Epoch 87/100\n",
      "45/45 [==============================] - 0s 6ms/step - loss: 0.0053 - accuracy: 1.0000 - val_loss: 0.1287 - val_accuracy: 0.9528\n",
      "Epoch 88/100\n",
      "45/45 [==============================] - 0s 6ms/step - loss: 0.0051 - accuracy: 1.0000 - val_loss: 0.1284 - val_accuracy: 0.9528\n",
      "Epoch 89/100\n",
      "45/45 [==============================] - 0s 6ms/step - loss: 0.0050 - accuracy: 1.0000 - val_loss: 0.1267 - val_accuracy: 0.9500\n",
      "Epoch 90/100\n",
      "45/45 [==============================] - 0s 6ms/step - loss: 0.0048 - accuracy: 1.0000 - val_loss: 0.1289 - val_accuracy: 0.9528\n",
      "Epoch 91/100\n",
      "45/45 [==============================] - 0s 6ms/step - loss: 0.0047 - accuracy: 1.0000 - val_loss: 0.1271 - val_accuracy: 0.9528\n",
      "Epoch 92/100\n",
      "45/45 [==============================] - 0s 6ms/step - loss: 0.0045 - accuracy: 1.0000 - val_loss: 0.1283 - val_accuracy: 0.9528\n",
      "Epoch 93/100\n",
      "45/45 [==============================] - 0s 6ms/step - loss: 0.0044 - accuracy: 1.0000 - val_loss: 0.1273 - val_accuracy: 0.9500\n",
      "Epoch 94/100\n",
      "45/45 [==============================] - 0s 6ms/step - loss: 0.0042 - accuracy: 1.0000 - val_loss: 0.1265 - val_accuracy: 0.9500\n",
      "Epoch 95/100\n",
      "45/45 [==============================] - 0s 6ms/step - loss: 0.0041 - accuracy: 1.0000 - val_loss: 0.1276 - val_accuracy: 0.9528\n",
      "Epoch 96/100\n",
      "45/45 [==============================] - 0s 6ms/step - loss: 0.0040 - accuracy: 1.0000 - val_loss: 0.1298 - val_accuracy: 0.9528\n",
      "Epoch 97/100\n",
      "45/45 [==============================] - 0s 6ms/step - loss: 0.0039 - accuracy: 1.0000 - val_loss: 0.1279 - val_accuracy: 0.9528\n",
      "Epoch 98/100\n",
      "45/45 [==============================] - 0s 6ms/step - loss: 0.0038 - accuracy: 1.0000 - val_loss: 0.1316 - val_accuracy: 0.9528\n",
      "Epoch 99/100\n",
      "45/45 [==============================] - 0s 6ms/step - loss: 0.0036 - accuracy: 1.0000 - val_loss: 0.1298 - val_accuracy: 0.9500\n",
      "Epoch 100/100\n",
      "45/45 [==============================] - 0s 6ms/step - loss: 0.0035 - accuracy: 1.0000 - val_loss: 0.1289 - val_accuracy: 0.9528\n",
      "12/12 [==============================] - 0s 3ms/step\n"
     ]
    }
   ],
   "source": [
    "# fit network\n",
    "model_history=model.fit(x=X_train, y=y_train, epochs=100, batch_size=32,validation_data= (X_test,y_test))\n",
    "y_pred = model.predict(X_test)\n",
    "\n",
    "y_test_class = np.argmax(y_test,axis=1)\n",
    "y_pred_class = np.argmax(y_pred,axis=1)"
   ]
  },
  {
   "cell_type": "code",
   "execution_count": 118,
   "id": "d13cd738",
   "metadata": {},
   "outputs": [
    {
     "name": "stdout",
     "output_type": "stream",
     "text": [
      "              precision    recall  f1-score   support\n",
      "\n",
      "           0       1.00      0.97      0.99        34\n",
      "           1       0.86      0.97      0.91        32\n",
      "           2       0.97      0.95      0.96        41\n",
      "           3       1.00      0.89      0.94        38\n",
      "           4       1.00      1.00      1.00        32\n",
      "           5       0.98      0.98      0.98        41\n",
      "           6       0.95      1.00      0.97        36\n",
      "           7       0.97      1.00      0.99        33\n",
      "           8       0.91      0.85      0.88        34\n",
      "           9       0.90      0.92      0.91        39\n",
      "\n",
      "    accuracy                           0.95       360\n",
      "   macro avg       0.95      0.95      0.95       360\n",
      "weighted avg       0.95      0.95      0.95       360\n",
      "\n",
      "[[33  0  0  0  0  0  1  0  0  0]\n",
      " [ 0 31  0  0  0  0  0  0  0  1]\n",
      " [ 0  1 39  0  0  0  0  0  1  0]\n",
      " [ 0  0  1 34  0  0  0  0  1  2]\n",
      " [ 0  0  0  0 32  0  0  0  0  0]\n",
      " [ 0  1  0  0  0 40  0  0  0  0]\n",
      " [ 0  0  0  0  0  0 36  0  0  0]\n",
      " [ 0  0  0  0  0  0  0 33  0  0]\n",
      " [ 0  3  0  0  0  0  1  0 29  1]\n",
      " [ 0  0  0  0  0  1  0  1  1 36]]\n"
     ]
    }
   ],
   "source": [
    "         #Accuracy of the predicted values\n",
    "from sklearn.metrics import classification_report,confusion_matrix\n",
    "print(classification_report(y_test_class,y_pred_class))\n",
    "print(confusion_matrix(y_test_class,y_pred_class))"
   ]
  },
  {
   "cell_type": "code",
   "execution_count": null,
   "id": "5b4ae178",
   "metadata": {},
   "outputs": [],
   "source": []
  }
 ],
 "metadata": {
  "kernelspec": {
   "display_name": "Python 3 (ipykernel)",
   "language": "python",
   "name": "python3"
  },
  "language_info": {
   "codemirror_mode": {
    "name": "ipython",
    "version": 3
   },
   "file_extension": ".py",
   "mimetype": "text/x-python",
   "name": "python",
   "nbconvert_exporter": "python",
   "pygments_lexer": "ipython3",
   "version": "3.9.13"
  }
 },
 "nbformat": 4,
 "nbformat_minor": 5
}
