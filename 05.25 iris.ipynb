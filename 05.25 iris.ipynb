{
 "cells": [
  {
   "cell_type": "code",
   "execution_count": 2,
   "id": "84baf76b",
   "metadata": {},
   "outputs": [],
   "source": [
    "from sklearn.datasets import load_iris\n",
    "import numpy as np\n",
    "import pandas as pd\n",
    "import seaborn as sns\n",
    "from sklearn.tree import DecisionTreeClassifier\n",
    "from sklearn.model_selection import train_test_split"
   ]
  },
  {
   "cell_type": "code",
   "execution_count": 3,
   "id": "146828ad",
   "metadata": {},
   "outputs": [],
   "source": [
    "iris = load_iris()"
   ]
  },
  {
   "cell_type": "code",
   "execution_count": 4,
   "id": "feb78601",
   "metadata": {
    "scrolled": true
   },
   "outputs": [
    {
     "data": {
      "text/plain": [
       "{'data': array([[5.1, 3.5, 1.4, 0.2],\n",
       "        [4.9, 3. , 1.4, 0.2],\n",
       "        [4.7, 3.2, 1.3, 0.2],\n",
       "        [4.6, 3.1, 1.5, 0.2],\n",
       "        [5. , 3.6, 1.4, 0.2],\n",
       "        [5.4, 3.9, 1.7, 0.4],\n",
       "        [4.6, 3.4, 1.4, 0.3],\n",
       "        [5. , 3.4, 1.5, 0.2],\n",
       "        [4.4, 2.9, 1.4, 0.2],\n",
       "        [4.9, 3.1, 1.5, 0.1],\n",
       "        [5.4, 3.7, 1.5, 0.2],\n",
       "        [4.8, 3.4, 1.6, 0.2],\n",
       "        [4.8, 3. , 1.4, 0.1],\n",
       "        [4.3, 3. , 1.1, 0.1],\n",
       "        [5.8, 4. , 1.2, 0.2],\n",
       "        [5.7, 4.4, 1.5, 0.4],\n",
       "        [5.4, 3.9, 1.3, 0.4],\n",
       "        [5.1, 3.5, 1.4, 0.3],\n",
       "        [5.7, 3.8, 1.7, 0.3],\n",
       "        [5.1, 3.8, 1.5, 0.3],\n",
       "        [5.4, 3.4, 1.7, 0.2],\n",
       "        [5.1, 3.7, 1.5, 0.4],\n",
       "        [4.6, 3.6, 1. , 0.2],\n",
       "        [5.1, 3.3, 1.7, 0.5],\n",
       "        [4.8, 3.4, 1.9, 0.2],\n",
       "        [5. , 3. , 1.6, 0.2],\n",
       "        [5. , 3.4, 1.6, 0.4],\n",
       "        [5.2, 3.5, 1.5, 0.2],\n",
       "        [5.2, 3.4, 1.4, 0.2],\n",
       "        [4.7, 3.2, 1.6, 0.2],\n",
       "        [4.8, 3.1, 1.6, 0.2],\n",
       "        [5.4, 3.4, 1.5, 0.4],\n",
       "        [5.2, 4.1, 1.5, 0.1],\n",
       "        [5.5, 4.2, 1.4, 0.2],\n",
       "        [4.9, 3.1, 1.5, 0.2],\n",
       "        [5. , 3.2, 1.2, 0.2],\n",
       "        [5.5, 3.5, 1.3, 0.2],\n",
       "        [4.9, 3.6, 1.4, 0.1],\n",
       "        [4.4, 3. , 1.3, 0.2],\n",
       "        [5.1, 3.4, 1.5, 0.2],\n",
       "        [5. , 3.5, 1.3, 0.3],\n",
       "        [4.5, 2.3, 1.3, 0.3],\n",
       "        [4.4, 3.2, 1.3, 0.2],\n",
       "        [5. , 3.5, 1.6, 0.6],\n",
       "        [5.1, 3.8, 1.9, 0.4],\n",
       "        [4.8, 3. , 1.4, 0.3],\n",
       "        [5.1, 3.8, 1.6, 0.2],\n",
       "        [4.6, 3.2, 1.4, 0.2],\n",
       "        [5.3, 3.7, 1.5, 0.2],\n",
       "        [5. , 3.3, 1.4, 0.2],\n",
       "        [7. , 3.2, 4.7, 1.4],\n",
       "        [6.4, 3.2, 4.5, 1.5],\n",
       "        [6.9, 3.1, 4.9, 1.5],\n",
       "        [5.5, 2.3, 4. , 1.3],\n",
       "        [6.5, 2.8, 4.6, 1.5],\n",
       "        [5.7, 2.8, 4.5, 1.3],\n",
       "        [6.3, 3.3, 4.7, 1.6],\n",
       "        [4.9, 2.4, 3.3, 1. ],\n",
       "        [6.6, 2.9, 4.6, 1.3],\n",
       "        [5.2, 2.7, 3.9, 1.4],\n",
       "        [5. , 2. , 3.5, 1. ],\n",
       "        [5.9, 3. , 4.2, 1.5],\n",
       "        [6. , 2.2, 4. , 1. ],\n",
       "        [6.1, 2.9, 4.7, 1.4],\n",
       "        [5.6, 2.9, 3.6, 1.3],\n",
       "        [6.7, 3.1, 4.4, 1.4],\n",
       "        [5.6, 3. , 4.5, 1.5],\n",
       "        [5.8, 2.7, 4.1, 1. ],\n",
       "        [6.2, 2.2, 4.5, 1.5],\n",
       "        [5.6, 2.5, 3.9, 1.1],\n",
       "        [5.9, 3.2, 4.8, 1.8],\n",
       "        [6.1, 2.8, 4. , 1.3],\n",
       "        [6.3, 2.5, 4.9, 1.5],\n",
       "        [6.1, 2.8, 4.7, 1.2],\n",
       "        [6.4, 2.9, 4.3, 1.3],\n",
       "        [6.6, 3. , 4.4, 1.4],\n",
       "        [6.8, 2.8, 4.8, 1.4],\n",
       "        [6.7, 3. , 5. , 1.7],\n",
       "        [6. , 2.9, 4.5, 1.5],\n",
       "        [5.7, 2.6, 3.5, 1. ],\n",
       "        [5.5, 2.4, 3.8, 1.1],\n",
       "        [5.5, 2.4, 3.7, 1. ],\n",
       "        [5.8, 2.7, 3.9, 1.2],\n",
       "        [6. , 2.7, 5.1, 1.6],\n",
       "        [5.4, 3. , 4.5, 1.5],\n",
       "        [6. , 3.4, 4.5, 1.6],\n",
       "        [6.7, 3.1, 4.7, 1.5],\n",
       "        [6.3, 2.3, 4.4, 1.3],\n",
       "        [5.6, 3. , 4.1, 1.3],\n",
       "        [5.5, 2.5, 4. , 1.3],\n",
       "        [5.5, 2.6, 4.4, 1.2],\n",
       "        [6.1, 3. , 4.6, 1.4],\n",
       "        [5.8, 2.6, 4. , 1.2],\n",
       "        [5. , 2.3, 3.3, 1. ],\n",
       "        [5.6, 2.7, 4.2, 1.3],\n",
       "        [5.7, 3. , 4.2, 1.2],\n",
       "        [5.7, 2.9, 4.2, 1.3],\n",
       "        [6.2, 2.9, 4.3, 1.3],\n",
       "        [5.1, 2.5, 3. , 1.1],\n",
       "        [5.7, 2.8, 4.1, 1.3],\n",
       "        [6.3, 3.3, 6. , 2.5],\n",
       "        [5.8, 2.7, 5.1, 1.9],\n",
       "        [7.1, 3. , 5.9, 2.1],\n",
       "        [6.3, 2.9, 5.6, 1.8],\n",
       "        [6.5, 3. , 5.8, 2.2],\n",
       "        [7.6, 3. , 6.6, 2.1],\n",
       "        [4.9, 2.5, 4.5, 1.7],\n",
       "        [7.3, 2.9, 6.3, 1.8],\n",
       "        [6.7, 2.5, 5.8, 1.8],\n",
       "        [7.2, 3.6, 6.1, 2.5],\n",
       "        [6.5, 3.2, 5.1, 2. ],\n",
       "        [6.4, 2.7, 5.3, 1.9],\n",
       "        [6.8, 3. , 5.5, 2.1],\n",
       "        [5.7, 2.5, 5. , 2. ],\n",
       "        [5.8, 2.8, 5.1, 2.4],\n",
       "        [6.4, 3.2, 5.3, 2.3],\n",
       "        [6.5, 3. , 5.5, 1.8],\n",
       "        [7.7, 3.8, 6.7, 2.2],\n",
       "        [7.7, 2.6, 6.9, 2.3],\n",
       "        [6. , 2.2, 5. , 1.5],\n",
       "        [6.9, 3.2, 5.7, 2.3],\n",
       "        [5.6, 2.8, 4.9, 2. ],\n",
       "        [7.7, 2.8, 6.7, 2. ],\n",
       "        [6.3, 2.7, 4.9, 1.8],\n",
       "        [6.7, 3.3, 5.7, 2.1],\n",
       "        [7.2, 3.2, 6. , 1.8],\n",
       "        [6.2, 2.8, 4.8, 1.8],\n",
       "        [6.1, 3. , 4.9, 1.8],\n",
       "        [6.4, 2.8, 5.6, 2.1],\n",
       "        [7.2, 3. , 5.8, 1.6],\n",
       "        [7.4, 2.8, 6.1, 1.9],\n",
       "        [7.9, 3.8, 6.4, 2. ],\n",
       "        [6.4, 2.8, 5.6, 2.2],\n",
       "        [6.3, 2.8, 5.1, 1.5],\n",
       "        [6.1, 2.6, 5.6, 1.4],\n",
       "        [7.7, 3. , 6.1, 2.3],\n",
       "        [6.3, 3.4, 5.6, 2.4],\n",
       "        [6.4, 3.1, 5.5, 1.8],\n",
       "        [6. , 3. , 4.8, 1.8],\n",
       "        [6.9, 3.1, 5.4, 2.1],\n",
       "        [6.7, 3.1, 5.6, 2.4],\n",
       "        [6.9, 3.1, 5.1, 2.3],\n",
       "        [5.8, 2.7, 5.1, 1.9],\n",
       "        [6.8, 3.2, 5.9, 2.3],\n",
       "        [6.7, 3.3, 5.7, 2.5],\n",
       "        [6.7, 3. , 5.2, 2.3],\n",
       "        [6.3, 2.5, 5. , 1.9],\n",
       "        [6.5, 3. , 5.2, 2. ],\n",
       "        [6.2, 3.4, 5.4, 2.3],\n",
       "        [5.9, 3. , 5.1, 1.8]]),\n",
       " 'target': array([0, 0, 0, 0, 0, 0, 0, 0, 0, 0, 0, 0, 0, 0, 0, 0, 0, 0, 0, 0, 0, 0,\n",
       "        0, 0, 0, 0, 0, 0, 0, 0, 0, 0, 0, 0, 0, 0, 0, 0, 0, 0, 0, 0, 0, 0,\n",
       "        0, 0, 0, 0, 0, 0, 1, 1, 1, 1, 1, 1, 1, 1, 1, 1, 1, 1, 1, 1, 1, 1,\n",
       "        1, 1, 1, 1, 1, 1, 1, 1, 1, 1, 1, 1, 1, 1, 1, 1, 1, 1, 1, 1, 1, 1,\n",
       "        1, 1, 1, 1, 1, 1, 1, 1, 1, 1, 1, 1, 2, 2, 2, 2, 2, 2, 2, 2, 2, 2,\n",
       "        2, 2, 2, 2, 2, 2, 2, 2, 2, 2, 2, 2, 2, 2, 2, 2, 2, 2, 2, 2, 2, 2,\n",
       "        2, 2, 2, 2, 2, 2, 2, 2, 2, 2, 2, 2, 2, 2, 2, 2, 2, 2]),\n",
       " 'frame': None,\n",
       " 'target_names': array(['setosa', 'versicolor', 'virginica'], dtype='<U10'),\n",
       " 'DESCR': '.. _iris_dataset:\\n\\nIris plants dataset\\n--------------------\\n\\n**Data Set Characteristics:**\\n\\n    :Number of Instances: 150 (50 in each of three classes)\\n    :Number of Attributes: 4 numeric, predictive attributes and the class\\n    :Attribute Information:\\n        - sepal length in cm\\n        - sepal width in cm\\n        - petal length in cm\\n        - petal width in cm\\n        - class:\\n                - Iris-Setosa\\n                - Iris-Versicolour\\n                - Iris-Virginica\\n                \\n    :Summary Statistics:\\n\\n    ============== ==== ==== ======= ===== ====================\\n                    Min  Max   Mean    SD   Class Correlation\\n    ============== ==== ==== ======= ===== ====================\\n    sepal length:   4.3  7.9   5.84   0.83    0.7826\\n    sepal width:    2.0  4.4   3.05   0.43   -0.4194\\n    petal length:   1.0  6.9   3.76   1.76    0.9490  (high!)\\n    petal width:    0.1  2.5   1.20   0.76    0.9565  (high!)\\n    ============== ==== ==== ======= ===== ====================\\n\\n    :Missing Attribute Values: None\\n    :Class Distribution: 33.3% for each of 3 classes.\\n    :Creator: R.A. Fisher\\n    :Donor: Michael Marshall (MARSHALL%PLU@io.arc.nasa.gov)\\n    :Date: July, 1988\\n\\nThe famous Iris database, first used by Sir R.A. Fisher. The dataset is taken\\nfrom Fisher\\'s paper. Note that it\\'s the same as in R, but not as in the UCI\\nMachine Learning Repository, which has two wrong data points.\\n\\nThis is perhaps the best known database to be found in the\\npattern recognition literature.  Fisher\\'s paper is a classic in the field and\\nis referenced frequently to this day.  (See Duda & Hart, for example.)  The\\ndata set contains 3 classes of 50 instances each, where each class refers to a\\ntype of iris plant.  One class is linearly separable from the other 2; the\\nlatter are NOT linearly separable from each other.\\n\\n.. topic:: References\\n\\n   - Fisher, R.A. \"The use of multiple measurements in taxonomic problems\"\\n     Annual Eugenics, 7, Part II, 179-188 (1936); also in \"Contributions to\\n     Mathematical Statistics\" (John Wiley, NY, 1950).\\n   - Duda, R.O., & Hart, P.E. (1973) Pattern Classification and Scene Analysis.\\n     (Q327.D83) John Wiley & Sons.  ISBN 0-471-22361-1.  See page 218.\\n   - Dasarathy, B.V. (1980) \"Nosing Around the Neighborhood: A New System\\n     Structure and Classification Rule for Recognition in Partially Exposed\\n     Environments\".  IEEE Transactions on Pattern Analysis and Machine\\n     Intelligence, Vol. PAMI-2, No. 1, 67-71.\\n   - Gates, G.W. (1972) \"The Reduced Nearest Neighbor Rule\".  IEEE Transactions\\n     on Information Theory, May 1972, 431-433.\\n   - See also: 1988 MLC Proceedings, 54-64.  Cheeseman et al\"s AUTOCLASS II\\n     conceptual clustering system finds 3 classes in the data.\\n   - Many, many more ...',\n",
       " 'feature_names': ['sepal length (cm)',\n",
       "  'sepal width (cm)',\n",
       "  'petal length (cm)',\n",
       "  'petal width (cm)'],\n",
       " 'filename': 'iris.csv',\n",
       " 'data_module': 'sklearn.datasets.data'}"
      ]
     },
     "execution_count": 4,
     "metadata": {},
     "output_type": "execute_result"
    }
   ],
   "source": [
    "iris"
   ]
  },
  {
   "cell_type": "code",
   "execution_count": 5,
   "id": "e1ed6abc",
   "metadata": {
    "scrolled": true
   },
   "outputs": [
    {
     "data": {
      "text/plain": [
       "dict_keys(['data', 'target', 'frame', 'target_names', 'DESCR', 'feature_names', 'filename', 'data_module'])"
      ]
     },
     "execution_count": 5,
     "metadata": {},
     "output_type": "execute_result"
    }
   ],
   "source": [
    "iris.keys()"
   ]
  },
  {
   "cell_type": "code",
   "execution_count": 6,
   "id": "86bb314a",
   "metadata": {
    "scrolled": false
   },
   "outputs": [],
   "source": [
    "df_features =iris.feature_names"
   ]
  },
  {
   "cell_type": "code",
   "execution_count": 7,
   "id": "aedfb193",
   "metadata": {
    "scrolled": true
   },
   "outputs": [
    {
     "data": {
      "text/plain": [
       "['sepal length (cm)',\n",
       " 'sepal width (cm)',\n",
       " 'petal length (cm)',\n",
       " 'petal width (cm)']"
      ]
     },
     "execution_count": 7,
     "metadata": {},
     "output_type": "execute_result"
    }
   ],
   "source": [
    "df_features"
   ]
  },
  {
   "cell_type": "code",
   "execution_count": 8,
   "id": "97839def",
   "metadata": {},
   "outputs": [],
   "source": [
    "df_target=pd.DataFrame(iris.target)"
   ]
  },
  {
   "cell_type": "code",
   "execution_count": 12,
   "id": "c2b6b8fb",
   "metadata": {},
   "outputs": [],
   "source": [
    "df = pd.DataFrame(iris.data, columns = df_features)\n",
    "df_labels = pd.DataFrame(iris.target, columns = ['label'])"
   ]
  },
  {
   "cell_type": "code",
   "execution_count": 13,
   "id": "c105a858",
   "metadata": {
    "scrolled": true
   },
   "outputs": [
    {
     "data": {
      "text/html": [
       "<div>\n",
       "<style scoped>\n",
       "    .dataframe tbody tr th:only-of-type {\n",
       "        vertical-align: middle;\n",
       "    }\n",
       "\n",
       "    .dataframe tbody tr th {\n",
       "        vertical-align: top;\n",
       "    }\n",
       "\n",
       "    .dataframe thead th {\n",
       "        text-align: right;\n",
       "    }\n",
       "</style>\n",
       "<table border=\"1\" class=\"dataframe\">\n",
       "  <thead>\n",
       "    <tr style=\"text-align: right;\">\n",
       "      <th></th>\n",
       "      <th>label</th>\n",
       "    </tr>\n",
       "  </thead>\n",
       "  <tbody>\n",
       "    <tr>\n",
       "      <th>0</th>\n",
       "      <td>0</td>\n",
       "    </tr>\n",
       "    <tr>\n",
       "      <th>1</th>\n",
       "      <td>0</td>\n",
       "    </tr>\n",
       "    <tr>\n",
       "      <th>2</th>\n",
       "      <td>0</td>\n",
       "    </tr>\n",
       "    <tr>\n",
       "      <th>3</th>\n",
       "      <td>0</td>\n",
       "    </tr>\n",
       "    <tr>\n",
       "      <th>4</th>\n",
       "      <td>0</td>\n",
       "    </tr>\n",
       "    <tr>\n",
       "      <th>...</th>\n",
       "      <td>...</td>\n",
       "    </tr>\n",
       "    <tr>\n",
       "      <th>145</th>\n",
       "      <td>2</td>\n",
       "    </tr>\n",
       "    <tr>\n",
       "      <th>146</th>\n",
       "      <td>2</td>\n",
       "    </tr>\n",
       "    <tr>\n",
       "      <th>147</th>\n",
       "      <td>2</td>\n",
       "    </tr>\n",
       "    <tr>\n",
       "      <th>148</th>\n",
       "      <td>2</td>\n",
       "    </tr>\n",
       "    <tr>\n",
       "      <th>149</th>\n",
       "      <td>2</td>\n",
       "    </tr>\n",
       "  </tbody>\n",
       "</table>\n",
       "<p>150 rows × 1 columns</p>\n",
       "</div>"
      ],
      "text/plain": [
       "     label\n",
       "0        0\n",
       "1        0\n",
       "2        0\n",
       "3        0\n",
       "4        0\n",
       "..     ...\n",
       "145      2\n",
       "146      2\n",
       "147      2\n",
       "148      2\n",
       "149      2\n",
       "\n",
       "[150 rows x 1 columns]"
      ]
     },
     "execution_count": 13,
     "metadata": {},
     "output_type": "execute_result"
    }
   ],
   "source": [
    "df_labels"
   ]
  },
  {
   "cell_type": "code",
   "execution_count": 14,
   "id": "5c1c0066",
   "metadata": {},
   "outputs": [],
   "source": [
    "data = pd.concat([df, df_labels], axis=1)"
   ]
  },
  {
   "cell_type": "code",
   "execution_count": 15,
   "id": "068b7090",
   "metadata": {},
   "outputs": [
    {
     "data": {
      "text/html": [
       "<div>\n",
       "<style scoped>\n",
       "    .dataframe tbody tr th:only-of-type {\n",
       "        vertical-align: middle;\n",
       "    }\n",
       "\n",
       "    .dataframe tbody tr th {\n",
       "        vertical-align: top;\n",
       "    }\n",
       "\n",
       "    .dataframe thead th {\n",
       "        text-align: right;\n",
       "    }\n",
       "</style>\n",
       "<table border=\"1\" class=\"dataframe\">\n",
       "  <thead>\n",
       "    <tr style=\"text-align: right;\">\n",
       "      <th></th>\n",
       "      <th>sepal length (cm)</th>\n",
       "      <th>sepal width (cm)</th>\n",
       "      <th>petal length (cm)</th>\n",
       "      <th>petal width (cm)</th>\n",
       "      <th>label</th>\n",
       "    </tr>\n",
       "  </thead>\n",
       "  <tbody>\n",
       "    <tr>\n",
       "      <th>0</th>\n",
       "      <td>5.1</td>\n",
       "      <td>3.5</td>\n",
       "      <td>1.4</td>\n",
       "      <td>0.2</td>\n",
       "      <td>0</td>\n",
       "    </tr>\n",
       "    <tr>\n",
       "      <th>1</th>\n",
       "      <td>4.9</td>\n",
       "      <td>3.0</td>\n",
       "      <td>1.4</td>\n",
       "      <td>0.2</td>\n",
       "      <td>0</td>\n",
       "    </tr>\n",
       "    <tr>\n",
       "      <th>2</th>\n",
       "      <td>4.7</td>\n",
       "      <td>3.2</td>\n",
       "      <td>1.3</td>\n",
       "      <td>0.2</td>\n",
       "      <td>0</td>\n",
       "    </tr>\n",
       "    <tr>\n",
       "      <th>3</th>\n",
       "      <td>4.6</td>\n",
       "      <td>3.1</td>\n",
       "      <td>1.5</td>\n",
       "      <td>0.2</td>\n",
       "      <td>0</td>\n",
       "    </tr>\n",
       "    <tr>\n",
       "      <th>4</th>\n",
       "      <td>5.0</td>\n",
       "      <td>3.6</td>\n",
       "      <td>1.4</td>\n",
       "      <td>0.2</td>\n",
       "      <td>0</td>\n",
       "    </tr>\n",
       "    <tr>\n",
       "      <th>...</th>\n",
       "      <td>...</td>\n",
       "      <td>...</td>\n",
       "      <td>...</td>\n",
       "      <td>...</td>\n",
       "      <td>...</td>\n",
       "    </tr>\n",
       "    <tr>\n",
       "      <th>145</th>\n",
       "      <td>6.7</td>\n",
       "      <td>3.0</td>\n",
       "      <td>5.2</td>\n",
       "      <td>2.3</td>\n",
       "      <td>2</td>\n",
       "    </tr>\n",
       "    <tr>\n",
       "      <th>146</th>\n",
       "      <td>6.3</td>\n",
       "      <td>2.5</td>\n",
       "      <td>5.0</td>\n",
       "      <td>1.9</td>\n",
       "      <td>2</td>\n",
       "    </tr>\n",
       "    <tr>\n",
       "      <th>147</th>\n",
       "      <td>6.5</td>\n",
       "      <td>3.0</td>\n",
       "      <td>5.2</td>\n",
       "      <td>2.0</td>\n",
       "      <td>2</td>\n",
       "    </tr>\n",
       "    <tr>\n",
       "      <th>148</th>\n",
       "      <td>6.2</td>\n",
       "      <td>3.4</td>\n",
       "      <td>5.4</td>\n",
       "      <td>2.3</td>\n",
       "      <td>2</td>\n",
       "    </tr>\n",
       "    <tr>\n",
       "      <th>149</th>\n",
       "      <td>5.9</td>\n",
       "      <td>3.0</td>\n",
       "      <td>5.1</td>\n",
       "      <td>1.8</td>\n",
       "      <td>2</td>\n",
       "    </tr>\n",
       "  </tbody>\n",
       "</table>\n",
       "<p>150 rows × 5 columns</p>\n",
       "</div>"
      ],
      "text/plain": [
       "     sepal length (cm)  sepal width (cm)  petal length (cm)  petal width (cm)  \\\n",
       "0                  5.1               3.5                1.4               0.2   \n",
       "1                  4.9               3.0                1.4               0.2   \n",
       "2                  4.7               3.2                1.3               0.2   \n",
       "3                  4.6               3.1                1.5               0.2   \n",
       "4                  5.0               3.6                1.4               0.2   \n",
       "..                 ...               ...                ...               ...   \n",
       "145                6.7               3.0                5.2               2.3   \n",
       "146                6.3               2.5                5.0               1.9   \n",
       "147                6.5               3.0                5.2               2.0   \n",
       "148                6.2               3.4                5.4               2.3   \n",
       "149                5.9               3.0                5.1               1.8   \n",
       "\n",
       "     label  \n",
       "0        0  \n",
       "1        0  \n",
       "2        0  \n",
       "3        0  \n",
       "4        0  \n",
       "..     ...  \n",
       "145      2  \n",
       "146      2  \n",
       "147      2  \n",
       "148      2  \n",
       "149      2  \n",
       "\n",
       "[150 rows x 5 columns]"
      ]
     },
     "execution_count": 15,
     "metadata": {},
     "output_type": "execute_result"
    }
   ],
   "source": [
    "data"
   ]
  },
  {
   "cell_type": "code",
   "execution_count": 16,
   "id": "c4371a18",
   "metadata": {
    "scrolled": true
   },
   "outputs": [
    {
     "data": {
      "text/plain": [
       "sepal length (cm)    0\n",
       "sepal width (cm)     0\n",
       "petal length (cm)    0\n",
       "petal width (cm)     0\n",
       "label                0\n",
       "dtype: int64"
      ]
     },
     "execution_count": 16,
     "metadata": {},
     "output_type": "execute_result"
    }
   ],
   "source": [
    "data.isna().sum()"
   ]
  },
  {
   "cell_type": "code",
   "execution_count": 17,
   "id": "6dea7914",
   "metadata": {},
   "outputs": [
    {
     "data": {
      "text/html": [
       "<div>\n",
       "<style scoped>\n",
       "    .dataframe tbody tr th:only-of-type {\n",
       "        vertical-align: middle;\n",
       "    }\n",
       "\n",
       "    .dataframe tbody tr th {\n",
       "        vertical-align: top;\n",
       "    }\n",
       "\n",
       "    .dataframe thead th {\n",
       "        text-align: right;\n",
       "    }\n",
       "</style>\n",
       "<table border=\"1\" class=\"dataframe\">\n",
       "  <thead>\n",
       "    <tr style=\"text-align: right;\">\n",
       "      <th></th>\n",
       "      <th>sepal length (cm)</th>\n",
       "      <th>sepal width (cm)</th>\n",
       "      <th>petal length (cm)</th>\n",
       "      <th>petal width (cm)</th>\n",
       "    </tr>\n",
       "  </thead>\n",
       "  <tbody>\n",
       "    <tr>\n",
       "      <th>0</th>\n",
       "      <td>5.1</td>\n",
       "      <td>3.5</td>\n",
       "      <td>1.4</td>\n",
       "      <td>0.2</td>\n",
       "    </tr>\n",
       "    <tr>\n",
       "      <th>1</th>\n",
       "      <td>4.9</td>\n",
       "      <td>3.0</td>\n",
       "      <td>1.4</td>\n",
       "      <td>0.2</td>\n",
       "    </tr>\n",
       "    <tr>\n",
       "      <th>2</th>\n",
       "      <td>4.7</td>\n",
       "      <td>3.2</td>\n",
       "      <td>1.3</td>\n",
       "      <td>0.2</td>\n",
       "    </tr>\n",
       "    <tr>\n",
       "      <th>3</th>\n",
       "      <td>4.6</td>\n",
       "      <td>3.1</td>\n",
       "      <td>1.5</td>\n",
       "      <td>0.2</td>\n",
       "    </tr>\n",
       "    <tr>\n",
       "      <th>4</th>\n",
       "      <td>5.0</td>\n",
       "      <td>3.6</td>\n",
       "      <td>1.4</td>\n",
       "      <td>0.2</td>\n",
       "    </tr>\n",
       "  </tbody>\n",
       "</table>\n",
       "</div>"
      ],
      "text/plain": [
       "   sepal length (cm)  sepal width (cm)  petal length (cm)  petal width (cm)\n",
       "0                5.1               3.5                1.4               0.2\n",
       "1                4.9               3.0                1.4               0.2\n",
       "2                4.7               3.2                1.3               0.2\n",
       "3                4.6               3.1                1.5               0.2\n",
       "4                5.0               3.6                1.4               0.2"
      ]
     },
     "execution_count": 17,
     "metadata": {},
     "output_type": "execute_result"
    }
   ],
   "source": [
    "X=data.drop('label',axis=1)\n",
    "X.head()"
   ]
  },
  {
   "cell_type": "code",
   "execution_count": 18,
   "id": "14010d80",
   "metadata": {},
   "outputs": [
    {
     "data": {
      "text/plain": [
       "0    50\n",
       "1    50\n",
       "2    50\n",
       "Name: label, dtype: int64"
      ]
     },
     "execution_count": 18,
     "metadata": {},
     "output_type": "execute_result"
    }
   ],
   "source": [
    "y=data['label']\n",
    "y.value_counts()"
   ]
  },
  {
   "cell_type": "code",
   "execution_count": 19,
   "id": "f60f46cf",
   "metadata": {},
   "outputs": [],
   "source": [
    "X = X.to_numpy()"
   ]
  },
  {
   "cell_type": "code",
   "execution_count": 20,
   "id": "11e0e57e",
   "metadata": {},
   "outputs": [],
   "source": [
    "# reshape from [samples, timesteps] into [samples, timesteps, features]\n",
    "# number of samples / number of time steps chosen per sample , number of parallel time series or features\n",
    "\n",
    "n_features = 1\n",
    "X = X.reshape((X.shape[0], X.shape[1], n_features))"
   ]
  },
  {
   "cell_type": "code",
   "execution_count": 21,
   "id": "a4256e28",
   "metadata": {
    "scrolled": true
   },
   "outputs": [
    {
     "data": {
      "text/plain": [
       "(150, 4, 1)"
      ]
     },
     "execution_count": 21,
     "metadata": {},
     "output_type": "execute_result"
    }
   ],
   "source": [
    "X.shape"
   ]
  },
  {
   "cell_type": "code",
   "execution_count": 42,
   "id": "58199910",
   "metadata": {},
   "outputs": [],
   "source": [
    "from sklearn.model_selection import train_test_split\n",
    "from sklearn.preprocessing import LabelEncoder\n",
    "\n",
    "encoder =  LabelEncoder()\n",
    "y1 = encoder.fit_transform(y)\n",
    "\n",
    "Y = pd.get_dummies(y1).values\n",
    "\n",
    "\n",
    "\n",
    "from sklearn.model_selection import train_test_split\n",
    "X_train,X_test, y_train,y_test = train_test_split(X,Y,test_size=0.2,random_state=0) "
   ]
  },
  {
   "cell_type": "code",
   "execution_count": 43,
   "id": "aacbeca1",
   "metadata": {},
   "outputs": [
    {
     "data": {
      "text/plain": [
       "4"
      ]
     },
     "execution_count": 43,
     "metadata": {},
     "output_type": "execute_result"
    }
   ],
   "source": [
    "n_steps = X.shape[1]\n",
    "n_steps"
   ]
  },
  {
   "cell_type": "code",
   "execution_count": 44,
   "id": "5e30bf81",
   "metadata": {},
   "outputs": [],
   "source": [
    "from keras.models import Sequential\n",
    "from keras.layers import Dense\n",
    "from keras.layers import Flatten\n",
    "from keras.layers.convolutional import Conv1D\n",
    "from keras.layers.convolutional import MaxPooling1D"
   ]
  },
  {
   "cell_type": "code",
   "execution_count": 121,
   "id": "90980d78",
   "metadata": {},
   "outputs": [
    {
     "name": "stderr",
     "output_type": "stream",
     "text": [
      "WARNING:absl:`lr` is deprecated in Keras optimizer, please use `learning_rate` or use the legacy optimizer, e.g.,tf.keras.optimizers.legacy.Adam.\n"
     ]
    },
    {
     "name": "stdout",
     "output_type": "stream",
     "text": [
      "input_shape =>  4 1\n",
      "Model: \"sequential_26\"\n",
      "_________________________________________________________________\n",
      " Layer (type)                Output Shape              Param #   \n",
      "=================================================================\n",
      " conv1d_22 (Conv1D)          (None, 3, 64)             192       \n",
      "                                                                 \n",
      " max_pooling1d_21 (MaxPoolin  (None, 1, 64)            0         \n",
      " g1D)                                                            \n",
      "                                                                 \n",
      " global_average_pooling1d_10  (None, 64)               0         \n",
      "  (GlobalAveragePooling1D)                                       \n",
      "                                                                 \n",
      " flatten_19 (Flatten)        (None, 64)                0         \n",
      "                                                                 \n",
      " dense_38 (Dense)            (None, 40)                2600      \n",
      "                                                                 \n",
      " dense_39 (Dense)            (None, 3)                 123       \n",
      "                                                                 \n",
      "=================================================================\n",
      "Total params: 2,915\n",
      "Trainable params: 2,915\n",
      "Non-trainable params: 0\n",
      "_________________________________________________________________\n"
     ]
    }
   ],
   "source": [
    "#Defining the model \n",
    "\n",
    "from tensorflow.keras import models\n",
    "from tensorflow.keras import layers\n",
    "from tensorflow.keras.optimizers import SGD,Adam\n",
    "from keras.layers import Dense, Dropout, Flatten, Reshape, GlobalAveragePooling1D\n",
    "from keras.layers import Conv2D, MaxPooling2D, Conv1D, MaxPooling1D\n",
    "from keras.utils import np_utils\n",
    "\n",
    "\n",
    "def build_model(): \n",
    "    model = models.Sequential()\n",
    "    model.add(Conv1D(filters=64, kernel_size=2, activation='relu', input_shape=(n_steps, n_features)))\n",
    "    model.add(MaxPooling1D(pool_size=2))\n",
    "    model.add(GlobalAveragePooling1D())\n",
    "    model.add(Flatten())\n",
    "    model.add(Dense(40, activation='relu'))\n",
    "    model.add(Dense(3, activation='softmax'))\n",
    "    model.compile(loss='binary_crossentropy', optimizer=Adam(lr=0.0048), metrics=['accuracy'])\n",
    "    \n",
    "    return model\n",
    "\n",
    "model = build_model() \n",
    "print(\"input_shape => \", n_steps, n_features)\n",
    "model.summary()  "
   ]
  },
  {
   "cell_type": "code",
   "execution_count": 122,
   "id": "e97b9533",
   "metadata": {},
   "outputs": [
    {
     "name": "stdout",
     "output_type": "stream",
     "text": [
      "Epoch 1/100\n",
      "4/4 [==============================] - 1s 40ms/step - loss: 0.6824 - accuracy: 0.3250 - val_loss: 0.6564 - val_accuracy: 0.3667\n",
      "Epoch 2/100\n",
      "4/4 [==============================] - 0s 7ms/step - loss: 0.6389 - accuracy: 0.3917 - val_loss: 0.6451 - val_accuracy: 0.2000\n",
      "Epoch 3/100\n",
      "4/4 [==============================] - 0s 6ms/step - loss: 0.6239 - accuracy: 0.3667 - val_loss: 0.6491 - val_accuracy: 0.2000\n",
      "Epoch 4/100\n",
      "4/4 [==============================] - 0s 12ms/step - loss: 0.6125 - accuracy: 0.3667 - val_loss: 0.6493 - val_accuracy: 0.2000\n",
      "Epoch 5/100\n",
      "4/4 [==============================] - 0s 11ms/step - loss: 0.6045 - accuracy: 0.3667 - val_loss: 0.6440 - val_accuracy: 0.2000\n",
      "Epoch 6/100\n",
      "4/4 [==============================] - 0s 9ms/step - loss: 0.5977 - accuracy: 0.3667 - val_loss: 0.6385 - val_accuracy: 0.2000\n",
      "Epoch 7/100\n",
      "4/4 [==============================] - 0s 7ms/step - loss: 0.5896 - accuracy: 0.3667 - val_loss: 0.6303 - val_accuracy: 0.2000\n",
      "Epoch 8/100\n",
      "4/4 [==============================] - 0s 6ms/step - loss: 0.5823 - accuracy: 0.3667 - val_loss: 0.6177 - val_accuracy: 0.3000\n",
      "Epoch 9/100\n",
      "4/4 [==============================] - 0s 12ms/step - loss: 0.5739 - accuracy: 0.6000 - val_loss: 0.6080 - val_accuracy: 0.5333\n",
      "Epoch 10/100\n",
      "4/4 [==============================] - 0s 11ms/step - loss: 0.5664 - accuracy: 0.6917 - val_loss: 0.5976 - val_accuracy: 0.5667\n",
      "Epoch 11/100\n",
      "4/4 [==============================] - 0s 11ms/step - loss: 0.5575 - accuracy: 0.6917 - val_loss: 0.5913 - val_accuracy: 0.5667\n",
      "Epoch 12/100\n",
      "4/4 [==============================] - 0s 9ms/step - loss: 0.5478 - accuracy: 0.6917 - val_loss: 0.5828 - val_accuracy: 0.5667\n",
      "Epoch 13/100\n",
      "4/4 [==============================] - 0s 5ms/step - loss: 0.5395 - accuracy: 0.6917 - val_loss: 0.5765 - val_accuracy: 0.5667\n",
      "Epoch 14/100\n",
      "4/4 [==============================] - 0s 7ms/step - loss: 0.5292 - accuracy: 0.6917 - val_loss: 0.5679 - val_accuracy: 0.5667\n",
      "Epoch 15/100\n",
      "4/4 [==============================] - 0s 12ms/step - loss: 0.5195 - accuracy: 0.6917 - val_loss: 0.5542 - val_accuracy: 0.5667\n",
      "Epoch 16/100\n",
      "4/4 [==============================] - 0s 9ms/step - loss: 0.5093 - accuracy: 0.6917 - val_loss: 0.5443 - val_accuracy: 0.5667\n",
      "Epoch 17/100\n",
      "4/4 [==============================] - 0s 9ms/step - loss: 0.4988 - accuracy: 0.6917 - val_loss: 0.5364 - val_accuracy: 0.5667\n",
      "Epoch 18/100\n",
      "4/4 [==============================] - 0s 5ms/step - loss: 0.4876 - accuracy: 0.6917 - val_loss: 0.5257 - val_accuracy: 0.5667\n",
      "Epoch 19/100\n",
      "4/4 [==============================] - 0s 7ms/step - loss: 0.4767 - accuracy: 0.6917 - val_loss: 0.5141 - val_accuracy: 0.5667\n",
      "Epoch 20/100\n",
      "4/4 [==============================] - 0s 11ms/step - loss: 0.4657 - accuracy: 0.6917 - val_loss: 0.5011 - val_accuracy: 0.5667\n",
      "Epoch 21/100\n",
      "4/4 [==============================] - 0s 11ms/step - loss: 0.4557 - accuracy: 0.6917 - val_loss: 0.4952 - val_accuracy: 0.5667\n",
      "Epoch 22/100\n",
      "4/4 [==============================] - 0s 9ms/step - loss: 0.4447 - accuracy: 0.6917 - val_loss: 0.4830 - val_accuracy: 0.5667\n",
      "Epoch 23/100\n",
      "4/4 [==============================] - 0s 9ms/step - loss: 0.4338 - accuracy: 0.6917 - val_loss: 0.4676 - val_accuracy: 0.5667\n",
      "Epoch 24/100\n",
      "4/4 [==============================] - 0s 6ms/step - loss: 0.4232 - accuracy: 0.6917 - val_loss: 0.4548 - val_accuracy: 0.5667\n",
      "Epoch 25/100\n",
      "4/4 [==============================] - 0s 11ms/step - loss: 0.4128 - accuracy: 0.7000 - val_loss: 0.4434 - val_accuracy: 0.5667\n",
      "Epoch 26/100\n",
      "4/4 [==============================] - 0s 12ms/step - loss: 0.4025 - accuracy: 0.7083 - val_loss: 0.4379 - val_accuracy: 0.5667\n",
      "Epoch 27/100\n",
      "4/4 [==============================] - 0s 9ms/step - loss: 0.3932 - accuracy: 0.7000 - val_loss: 0.4309 - val_accuracy: 0.5667\n",
      "Epoch 28/100\n",
      "4/4 [==============================] - 0s 8ms/step - loss: 0.3847 - accuracy: 0.7000 - val_loss: 0.4200 - val_accuracy: 0.5667\n",
      "Epoch 29/100\n",
      "4/4 [==============================] - 0s 5ms/step - loss: 0.3761 - accuracy: 0.7000 - val_loss: 0.4144 - val_accuracy: 0.5667\n",
      "Epoch 30/100\n",
      "4/4 [==============================] - 0s 11ms/step - loss: 0.3686 - accuracy: 0.7000 - val_loss: 0.4083 - val_accuracy: 0.5667\n",
      "Epoch 31/100\n",
      "4/4 [==============================] - 0s 10ms/step - loss: 0.3612 - accuracy: 0.7000 - val_loss: 0.3994 - val_accuracy: 0.5667\n",
      "Epoch 32/100\n",
      "4/4 [==============================] - 0s 5ms/step - loss: 0.3550 - accuracy: 0.7000 - val_loss: 0.3932 - val_accuracy: 0.5667\n",
      "Epoch 33/100\n",
      "4/4 [==============================] - 0s 7ms/step - loss: 0.3481 - accuracy: 0.7250 - val_loss: 0.3777 - val_accuracy: 0.6333\n",
      "Epoch 34/100\n",
      "4/4 [==============================] - 0s 11ms/step - loss: 0.3427 - accuracy: 0.7500 - val_loss: 0.3679 - val_accuracy: 0.6667\n",
      "Epoch 35/100\n",
      "4/4 [==============================] - 0s 12ms/step - loss: 0.3348 - accuracy: 0.7500 - val_loss: 0.3676 - val_accuracy: 0.6333\n",
      "Epoch 36/100\n",
      "4/4 [==============================] - 0s 9ms/step - loss: 0.3295 - accuracy: 0.7250 - val_loss: 0.3669 - val_accuracy: 0.5667\n",
      "Epoch 37/100\n",
      "4/4 [==============================] - 0s 9ms/step - loss: 0.3240 - accuracy: 0.7250 - val_loss: 0.3538 - val_accuracy: 0.6333\n",
      "Epoch 38/100\n",
      "4/4 [==============================] - 0s 7ms/step - loss: 0.3180 - accuracy: 0.7583 - val_loss: 0.3475 - val_accuracy: 0.6667\n",
      "Epoch 39/100\n",
      "4/4 [==============================] - 0s 8ms/step - loss: 0.3124 - accuracy: 0.7583 - val_loss: 0.3437 - val_accuracy: 0.6667\n",
      "Epoch 40/100\n",
      "4/4 [==============================] - 0s 11ms/step - loss: 0.3081 - accuracy: 0.7667 - val_loss: 0.3354 - val_accuracy: 0.6667\n",
      "Epoch 41/100\n",
      "4/4 [==============================] - 0s 9ms/step - loss: 0.3039 - accuracy: 0.8333 - val_loss: 0.3253 - val_accuracy: 0.7000\n",
      "Epoch 42/100\n",
      "4/4 [==============================] - 0s 5ms/step - loss: 0.2995 - accuracy: 0.8583 - val_loss: 0.3215 - val_accuracy: 0.7000\n",
      "Epoch 43/100\n",
      "4/4 [==============================] - 0s 7ms/step - loss: 0.2952 - accuracy: 0.8500 - val_loss: 0.3208 - val_accuracy: 0.7000\n",
      "Epoch 44/100\n",
      "4/4 [==============================] - 0s 12ms/step - loss: 0.2914 - accuracy: 0.8500 - val_loss: 0.3196 - val_accuracy: 0.7000\n",
      "Epoch 45/100\n",
      "4/4 [==============================] - 0s 9ms/step - loss: 0.2879 - accuracy: 0.8417 - val_loss: 0.3163 - val_accuracy: 0.7000\n",
      "Epoch 46/100\n",
      "4/4 [==============================] - 0s 9ms/step - loss: 0.2847 - accuracy: 0.8417 - val_loss: 0.3125 - val_accuracy: 0.7000\n",
      "Epoch 47/100\n",
      "4/4 [==============================] - 0s 6ms/step - loss: 0.2810 - accuracy: 0.8583 - val_loss: 0.3026 - val_accuracy: 0.7333\n",
      "Epoch 48/100\n",
      "4/4 [==============================] - 0s 11ms/step - loss: 0.2774 - accuracy: 0.8750 - val_loss: 0.2976 - val_accuracy: 0.7333\n",
      "Epoch 49/100\n",
      "4/4 [==============================] - 0s 12ms/step - loss: 0.2751 - accuracy: 0.8750 - val_loss: 0.2955 - val_accuracy: 0.7333\n",
      "Epoch 50/100\n",
      "4/4 [==============================] - 0s 9ms/step - loss: 0.2727 - accuracy: 0.8833 - val_loss: 0.2835 - val_accuracy: 0.7667\n",
      "Epoch 51/100\n",
      "4/4 [==============================] - 0s 5ms/step - loss: 0.2683 - accuracy: 0.9167 - val_loss: 0.2855 - val_accuracy: 0.7333\n",
      "Epoch 52/100\n",
      "4/4 [==============================] - 0s 7ms/step - loss: 0.2670 - accuracy: 0.8833 - val_loss: 0.2945 - val_accuracy: 0.7333\n",
      "Epoch 53/100\n",
      "4/4 [==============================] - 0s 12ms/step - loss: 0.2631 - accuracy: 0.8750 - val_loss: 0.2855 - val_accuracy: 0.7333\n",
      "Epoch 54/100\n",
      "4/4 [==============================] - 0s 9ms/step - loss: 0.2609 - accuracy: 0.9083 - val_loss: 0.2722 - val_accuracy: 0.8667\n",
      "Epoch 55/100\n",
      "4/4 [==============================] - 0s 12ms/step - loss: 0.2575 - accuracy: 0.9250 - val_loss: 0.2742 - val_accuracy: 0.7667\n",
      "Epoch 56/100\n",
      "4/4 [==============================] - 0s 9ms/step - loss: 0.2547 - accuracy: 0.9250 - val_loss: 0.2726 - val_accuracy: 0.7333\n",
      "Epoch 57/100\n",
      "4/4 [==============================] - 0s 9ms/step - loss: 0.2534 - accuracy: 0.9000 - val_loss: 0.2763 - val_accuracy: 0.7333\n",
      "Epoch 58/100\n",
      "4/4 [==============================] - 0s 9ms/step - loss: 0.2497 - accuracy: 0.9000 - val_loss: 0.2638 - val_accuracy: 0.8667\n",
      "Epoch 59/100\n"
     ]
    },
    {
     "name": "stdout",
     "output_type": "stream",
     "text": [
      "4/4 [==============================] - 0s 11ms/step - loss: 0.2470 - accuracy: 0.9250 - val_loss: 0.2615 - val_accuracy: 0.8667\n",
      "Epoch 60/100\n",
      "4/4 [==============================] - 0s 7ms/step - loss: 0.2443 - accuracy: 0.9250 - val_loss: 0.2607 - val_accuracy: 0.8333\n",
      "Epoch 61/100\n",
      "4/4 [==============================] - 0s 7ms/step - loss: 0.2420 - accuracy: 0.9250 - val_loss: 0.2617 - val_accuracy: 0.7667\n",
      "Epoch 62/100\n",
      "4/4 [==============================] - 0s 12ms/step - loss: 0.2395 - accuracy: 0.9250 - val_loss: 0.2564 - val_accuracy: 0.8333\n",
      "Epoch 63/100\n",
      "4/4 [==============================] - 0s 9ms/step - loss: 0.2369 - accuracy: 0.9250 - val_loss: 0.2547 - val_accuracy: 0.8333\n",
      "Epoch 64/100\n",
      "4/4 [==============================] - 0s 5ms/step - loss: 0.2354 - accuracy: 0.9250 - val_loss: 0.2480 - val_accuracy: 0.8667\n",
      "Epoch 65/100\n",
      "4/4 [==============================] - 0s 6ms/step - loss: 0.2329 - accuracy: 0.9333 - val_loss: 0.2453 - val_accuracy: 0.8667\n",
      "Epoch 66/100\n",
      "4/4 [==============================] - 0s 12ms/step - loss: 0.2293 - accuracy: 0.9250 - val_loss: 0.2499 - val_accuracy: 0.8333\n",
      "Epoch 67/100\n",
      "4/4 [==============================] - 0s 9ms/step - loss: 0.2276 - accuracy: 0.9250 - val_loss: 0.2501 - val_accuracy: 0.8333\n",
      "Epoch 68/100\n",
      "4/4 [==============================] - 0s 6ms/step - loss: 0.2254 - accuracy: 0.9250 - val_loss: 0.2421 - val_accuracy: 0.8667\n",
      "Epoch 69/100\n",
      "4/4 [==============================] - 0s 6ms/step - loss: 0.2227 - accuracy: 0.9333 - val_loss: 0.2307 - val_accuracy: 0.9000\n",
      "Epoch 70/100\n",
      "4/4 [==============================] - 0s 12ms/step - loss: 0.2208 - accuracy: 0.9500 - val_loss: 0.2316 - val_accuracy: 0.9000\n",
      "Epoch 71/100\n",
      "4/4 [==============================] - 0s 8ms/step - loss: 0.2187 - accuracy: 0.9417 - val_loss: 0.2297 - val_accuracy: 0.9000\n",
      "Epoch 72/100\n",
      "4/4 [==============================] - 0s 5ms/step - loss: 0.2164 - accuracy: 0.9417 - val_loss: 0.2287 - val_accuracy: 0.9000\n",
      "Epoch 73/100\n",
      "4/4 [==============================] - 0s 6ms/step - loss: 0.2147 - accuracy: 0.9250 - val_loss: 0.2319 - val_accuracy: 0.8667\n",
      "Epoch 74/100\n",
      "4/4 [==============================] - 0s 11ms/step - loss: 0.2122 - accuracy: 0.9333 - val_loss: 0.2253 - val_accuracy: 0.9000\n",
      "Epoch 75/100\n",
      "4/4 [==============================] - 0s 11ms/step - loss: 0.2099 - accuracy: 0.9333 - val_loss: 0.2164 - val_accuracy: 0.9333\n",
      "Epoch 76/100\n",
      "4/4 [==============================] - 0s 9ms/step - loss: 0.2071 - accuracy: 0.9417 - val_loss: 0.2156 - val_accuracy: 0.9000\n",
      "Epoch 77/100\n",
      "4/4 [==============================] - 0s 9ms/step - loss: 0.2052 - accuracy: 0.9417 - val_loss: 0.2207 - val_accuracy: 0.9000\n",
      "Epoch 78/100\n",
      "4/4 [==============================] - 0s 6ms/step - loss: 0.2030 - accuracy: 0.9333 - val_loss: 0.2158 - val_accuracy: 0.9000\n",
      "Epoch 79/100\n",
      "4/4 [==============================] - 0s 6ms/step - loss: 0.1998 - accuracy: 0.9333 - val_loss: 0.2040 - val_accuracy: 0.9333\n",
      "Epoch 80/100\n",
      "4/4 [==============================] - 0s 10ms/step - loss: 0.2003 - accuracy: 0.9500 - val_loss: 0.2031 - val_accuracy: 0.9333\n",
      "Epoch 81/100\n",
      "4/4 [==============================] - 0s 10ms/step - loss: 0.1967 - accuracy: 0.9500 - val_loss: 0.2075 - val_accuracy: 0.9000\n",
      "Epoch 82/100\n",
      "4/4 [==============================] - 0s 6ms/step - loss: 0.1955 - accuracy: 0.9500 - val_loss: 0.2057 - val_accuracy: 0.9000\n",
      "Epoch 83/100\n",
      "4/4 [==============================] - 0s 7ms/step - loss: 0.1927 - accuracy: 0.9417 - val_loss: 0.1894 - val_accuracy: 0.9667\n",
      "Epoch 84/100\n",
      "4/4 [==============================] - 0s 10ms/step - loss: 0.1911 - accuracy: 0.9500 - val_loss: 0.1922 - val_accuracy: 0.9333\n",
      "Epoch 85/100\n",
      "4/4 [==============================] - 0s 11ms/step - loss: 0.1924 - accuracy: 0.9333 - val_loss: 0.2094 - val_accuracy: 0.9000\n",
      "Epoch 86/100\n",
      "4/4 [==============================] - 0s 10ms/step - loss: 0.1863 - accuracy: 0.9417 - val_loss: 0.1942 - val_accuracy: 0.9333\n",
      "Epoch 87/100\n",
      "4/4 [==============================] - 0s 7ms/step - loss: 0.1866 - accuracy: 0.9583 - val_loss: 0.1789 - val_accuracy: 0.9667\n",
      "Epoch 88/100\n",
      "4/4 [==============================] - 0s 7ms/step - loss: 0.1845 - accuracy: 0.9667 - val_loss: 0.1946 - val_accuracy: 0.9000\n",
      "Epoch 89/100\n",
      "4/4 [==============================] - 0s 12ms/step - loss: 0.1810 - accuracy: 0.9500 - val_loss: 0.1951 - val_accuracy: 0.9000\n",
      "Epoch 90/100\n",
      "4/4 [==============================] - 0s 10ms/step - loss: 0.1792 - accuracy: 0.9417 - val_loss: 0.1888 - val_accuracy: 0.9333\n",
      "Epoch 91/100\n",
      "4/4 [==============================] - 0s 6ms/step - loss: 0.1766 - accuracy: 0.9667 - val_loss: 0.1774 - val_accuracy: 0.9667\n",
      "Epoch 92/100\n",
      "4/4 [==============================] - 0s 6ms/step - loss: 0.1763 - accuracy: 0.9500 - val_loss: 0.1785 - val_accuracy: 0.9333\n",
      "Epoch 93/100\n",
      "4/4 [==============================] - 0s 12ms/step - loss: 0.1737 - accuracy: 0.9583 - val_loss: 0.1891 - val_accuracy: 0.9000\n",
      "Epoch 94/100\n",
      "4/4 [==============================] - 0s 11ms/step - loss: 0.1725 - accuracy: 0.9583 - val_loss: 0.1771 - val_accuracy: 0.9333\n",
      "Epoch 95/100\n",
      "4/4 [==============================] - 0s 5ms/step - loss: 0.1704 - accuracy: 0.9583 - val_loss: 0.1797 - val_accuracy: 0.9333\n",
      "Epoch 96/100\n",
      "4/4 [==============================] - 0s 6ms/step - loss: 0.1678 - accuracy: 0.9667 - val_loss: 0.1718 - val_accuracy: 0.9333\n",
      "Epoch 97/100\n",
      "4/4 [==============================] - 0s 11ms/step - loss: 0.1662 - accuracy: 0.9667 - val_loss: 0.1717 - val_accuracy: 0.9333\n",
      "Epoch 98/100\n",
      "4/4 [==============================] - 0s 9ms/step - loss: 0.1643 - accuracy: 0.9667 - val_loss: 0.1703 - val_accuracy: 0.9333\n",
      "Epoch 99/100\n",
      "4/4 [==============================] - 0s 9ms/step - loss: 0.1644 - accuracy: 0.9500 - val_loss: 0.1642 - val_accuracy: 0.9667\n",
      "Epoch 100/100\n",
      "4/4 [==============================] - 0s 6ms/step - loss: 0.1622 - accuracy: 0.9500 - val_loss: 0.1766 - val_accuracy: 0.9000\n",
      "1/1 [==============================] - 0s 47ms/step\n"
     ]
    }
   ],
   "source": [
    "#fitting the model and predicting \n",
    "\n",
    "# fit network\n",
    "model_history=model.fit(x=X_train, y=y_train, epochs=100, batch_size=32,validation_data= (X_test,y_test))\n",
    "y_pred = model.predict(X_test)\n",
    "\n",
    "y_test_class = np.argmax(y_test,axis=1)\n",
    "y_pred_class = np.argmax(y_pred,axis=1)"
   ]
  },
  {
   "cell_type": "code",
   "execution_count": 123,
   "id": "82030ae4",
   "metadata": {},
   "outputs": [
    {
     "data": {
      "image/png": "[encoded data removed]",
      "text/plain": [
       "<Figure size 640x480 with 1 Axes>"
      ]
     },
     "metadata": {},
     "output_type": "display_data"
    }
   ],
   "source": [
    "import matplotlib.pyplot as plt\n",
    "import seaborn as sns\n",
    "\n",
    "loss =model_history.history['loss']\n",
    "val_loss =model_history.history['val_loss']\n",
    "epochs = range(1, len(loss) + 1)\n",
    "plt.plot(epochs, loss, 'y', label='Training loss')\n",
    "plt.plot(epochs, val_loss, 'r', label='Validation loss')\n",
    "plt.title('Training and validation loss')\n",
    "plt.xlabel('Epochs')\n",
    "plt.ylabel('Loss')\n",
    "plt.legend()\n",
    "plt.show()"
   ]
  },
  {
   "cell_type": "code",
   "execution_count": 124,
   "id": "6988359b",
   "metadata": {},
   "outputs": [
    {
     "data": {
      "image/png": "[encoded data removed]",
      "text/plain": [
       "<Figure size 640x480 with 1 Axes>"
      ]
     },
     "metadata": {},
     "output_type": "display_data"
    }
   ],
   "source": [
    "acc =model_history.history['accuracy']\n",
    "val_acc =model_history.history['val_accuracy']\n",
    "plt.plot(epochs, acc, 'y', label='Training acc')\n",
    "plt.plot(epochs, val_acc, 'r', label='Validation acc')\n",
    "plt.title('Training and validation accuracy')\n",
    "plt.xlabel('Epochs')\n",
    "plt.ylabel('Accuracy')\n",
    "plt.legend()\n",
    "plt.show()"
   ]
  },
  {
   "cell_type": "code",
   "execution_count": 125,
   "id": "250bb0a4",
   "metadata": {},
   "outputs": [
    {
     "name": "stdout",
     "output_type": "stream",
     "text": [
      "              precision    recall  f1-score   support\n",
      "\n",
      "           0       1.00      1.00      1.00        11\n",
      "           1       1.00      0.77      0.87        13\n",
      "           2       0.67      1.00      0.80         6\n",
      "\n",
      "    accuracy                           0.90        30\n",
      "   macro avg       0.89      0.92      0.89        30\n",
      "weighted avg       0.93      0.90      0.90        30\n",
      "\n",
      "[[11  0  0]\n",
      " [ 0 10  3]\n",
      " [ 0  0  6]]\n"
     ]
    }
   ],
   "source": [
    "\n",
    "#Accuracy of the predicted values\n",
    "from sklearn.metrics import classification_report,confusion_matrix\n",
    "print(classification_report(y_test_class,y_pred_class))\n",
    "print(confusion_matrix(y_test_class,y_pred_class))"
   ]
  },
  {
   "cell_type": "code",
   "execution_count": null,
   "id": "6a33d339",
   "metadata": {},
   "outputs": [],
   "source": []
  }
 ],
 "metadata": {
  "kernelspec": {
   "display_name": "Python 3 (ipykernel)",
   "language": "python",
   "name": "python3"
  },
  "language_info": {
   "codemirror_mode": {
    "name": "ipython",
    "version": 3
   },
   "file_extension": ".py",
   "mimetype": "text/x-python",
   "name": "python",
   "nbconvert_exporter": "python",
   "pygments_lexer": "ipython3",
   "version": "3.9.13"
  }
 },
 "nbformat": 4,
 "nbformat_minor": 5
}
